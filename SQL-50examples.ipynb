{
 "cells": [
  {
   "cell_type": "markdown",
   "id": "6830c3ee-30e9-4317-891c-693cd3e04e22",
   "metadata": {},
   "source": [
    "# JupyterLab Connection Settings"
   ]
  },
  {
   "cell_type": "code",
   "execution_count": 1,
   "id": "20d95624-690d-4525-a345-b6603014ae3d",
   "metadata": {
    "collapsed": true,
    "jupyter": {
     "outputs_hidden": true
    },
    "tags": []
   },
   "outputs": [
    {
     "data": {
      "text/plain": [
       "['Requirement already satisfied: ipython-sql in /home/ersel/.local/lib/python3.8/site-packages (0.4.0)',\n",
       " 'Requirement already satisfied: prettytable<1 in /home/ersel/.local/lib/python3.8/site-packages (from ipython-sql) (0.7.2)',\n",
       " 'Requirement already satisfied: sqlalchemy>=0.6.7 in /home/ersel/.local/lib/python3.8/site-packages (from ipython-sql) (1.4.36)',\n",
       " 'Requirement already satisfied: six in /usr/lib/python3/dist-packages (from ipython-sql) (1.14.0)',\n",
       " 'Requirement already satisfied: ipython>=1.0 in /home/ersel/.local/lib/python3.8/site-packages (from ipython-sql) (8.1.1)',\n",
       " 'Requirement already satisfied: ipython-genutils>=0.1.0 in /home/ersel/.local/lib/python3.8/site-packages (from ipython-sql) (0.2.0)',\n",
       " 'Requirement already satisfied: sqlparse in /home/ersel/.local/lib/python3.8/site-packages (from ipython-sql) (0.4.2)',\n",
       " 'Requirement already satisfied: greenlet!=0.4.17; python_version >= \"3\" and (platform_machine == \"aarch64\" or (platform_machine == \"ppc64le\" or (platform_machine == \"x86_64\" or (platform_machine == \"amd64\" or (platform_machine == \"AMD64\" or (platform_machine == \"win32\" or platform_machine == \"WIN32\")))))) in /home/ersel/.local/lib/python3.8/site-packages (from sqlalchemy>=0.6.7->ipython-sql) (1.1.2)',\n",
       " 'Requirement already satisfied: decorator in /home/ersel/.local/lib/python3.8/site-packages (from ipython>=1.0->ipython-sql) (5.1.1)',\n",
       " 'Requirement already satisfied: pygments>=2.4.0 in /home/ersel/.local/lib/python3.8/site-packages (from ipython>=1.0->ipython-sql) (2.11.2)',\n",
       " 'Requirement already satisfied: traitlets>=5 in /home/ersel/.local/lib/python3.8/site-packages (from ipython>=1.0->ipython-sql) (5.1.1)',\n",
       " 'Requirement already satisfied: pickleshare in /home/ersel/.local/lib/python3.8/site-packages (from ipython>=1.0->ipython-sql) (0.7.5)',\n",
       " 'Requirement already satisfied: stack-data in /home/ersel/.local/lib/python3.8/site-packages (from ipython>=1.0->ipython-sql) (0.2.0)',\n",
       " 'Requirement already satisfied: pexpect>4.3; sys_platform != \"win32\" in /usr/lib/python3/dist-packages (from ipython>=1.0->ipython-sql) (4.6.0)',\n",
       " 'Requirement already satisfied: backcall in /home/ersel/.local/lib/python3.8/site-packages (from ipython>=1.0->ipython-sql) (0.2.0)',\n",
       " 'Requirement already satisfied: jedi>=0.16 in /home/ersel/.local/lib/python3.8/site-packages (from ipython>=1.0->ipython-sql) (0.18.1)',\n",
       " 'Requirement already satisfied: setuptools>=18.5 in /usr/lib/python3/dist-packages (from ipython>=1.0->ipython-sql) (45.2.0)',\n",
       " 'Requirement already satisfied: prompt-toolkit!=3.0.0,!=3.0.1,<3.1.0,>=2.0.0 in /home/ersel/.local/lib/python3.8/site-packages (from ipython>=1.0->ipython-sql) (3.0.28)',\n",
       " 'Requirement already satisfied: matplotlib-inline in /home/ersel/.local/lib/python3.8/site-packages (from ipython>=1.0->ipython-sql) (0.1.3)',\n",
       " 'Requirement already satisfied: pure-eval in /home/ersel/.local/lib/python3.8/site-packages (from stack-data->ipython>=1.0->ipython-sql) (0.2.2)',\n",
       " 'Requirement already satisfied: executing in /home/ersel/.local/lib/python3.8/site-packages (from stack-data->ipython>=1.0->ipython-sql) (0.8.3)',\n",
       " 'Requirement already satisfied: asttokens in /home/ersel/.local/lib/python3.8/site-packages (from stack-data->ipython>=1.0->ipython-sql) (2.0.5)',\n",
       " 'Requirement already satisfied: parso<0.9.0,>=0.8.0 in /home/ersel/.local/lib/python3.8/site-packages (from jedi>=0.16->ipython>=1.0->ipython-sql) (0.8.3)',\n",
       " 'Requirement already satisfied: wcwidth in /home/ersel/.local/lib/python3.8/site-packages (from prompt-toolkit!=3.0.0,!=3.0.1,<3.1.0,>=2.0.0->ipython>=1.0->ipython-sql) (0.2.5)']"
      ]
     },
     "execution_count": 1,
     "metadata": {},
     "output_type": "execute_result"
    }
   ],
   "source": [
    "%%!\n",
    "pip install --trusted-host pypi.org ipython-sql"
   ]
  },
  {
   "cell_type": "code",
   "execution_count": 1,
   "id": "7e173617-0c75-4bb2-8ce8-46d31e4c4f73",
   "metadata": {},
   "outputs": [],
   "source": [
    "%load_ext sql"
   ]
  },
  {
   "cell_type": "code",
   "execution_count": 2,
   "id": "ec9211c7-0e78-483a-af35-f6ad5f33087d",
   "metadata": {},
   "outputs": [],
   "source": [
    "%sql sqlite:///sql-examples.db"
   ]
  },
  {
   "cell_type": "markdown",
   "id": "d136b8f0-6016-4ec7-b46c-48cd2c6469e0",
   "metadata": {},
   "source": [
    "## Table creation process"
   ]
  },
  {
   "cell_type": "code",
   "execution_count": 12,
   "id": "b870fb85-9a85-4e0f-ab27-548e3435178b",
   "metadata": {},
   "outputs": [
    {
     "name": "stdout",
     "output_type": "stream",
     "text": [
      " * sqlite:///sql-examples.db\n",
      "Done.\n"
     ]
    },
    {
     "data": {
      "text/plain": [
       "[]"
      ]
     },
     "execution_count": 12,
     "metadata": {},
     "output_type": "execute_result"
    }
   ],
   "source": [
    "%%sql\n",
    "CREATE TABLE Workers(\n",
    "    worker_id INT,\n",
    "    first_name CHAR(25) NOT NULL,\n",
    "    last_name CHAR(25) NOT NULL,\n",
    "    salary INT(15),\n",
    "    joining_date DATETIME NOT NULL,\n",
    "    department CHAR(25));"
   ]
  },
  {
   "cell_type": "code",
   "execution_count": 23,
   "id": "19bebe0a-9aa1-4200-803b-4527bfc19398",
   "metadata": {},
   "outputs": [
    {
     "name": "stdout",
     "output_type": "stream",
     "text": [
      " * sqlite:///sql-examples.db\n",
      "9 rows affected.\n"
     ]
    },
    {
     "data": {
      "text/plain": [
       "[]"
      ]
     },
     "execution_count": 23,
     "metadata": {},
     "output_type": "execute_result"
    }
   ],
   "source": [
    "%%sql\n",
    "INSERT INTO Workers(worker_id, first_name, last_name, salary, joining_date, department)\n",
    "VALUES \n",
    "(001, 'Monika', 'Arora', 100000, '14-02-20 09.00.00', 'HR'),\n",
    "(002, 'Niharika', 'Verma', 80000, '14-06-11 09.00.00', 'Admin'),\n",
    "(003, 'Vishal', 'Singhal', 300000, '14-02-20 09.00.00', 'HR'),\n",
    "(004, 'Amitabh', 'Singh', 500000, '14-02-20 09.00.00', 'Admin'),\n",
    "(005, 'Vivek', 'Bhati', 500000, '14-06-11 09.00.00', 'Admin'),\n",
    "(006, 'Vipul', 'Diwan', 200000, '14-06-11 09.00.00', 'Account'),\n",
    "(007, 'Satish', 'Kumar', 75000, '14-01-20 09.00.00', 'Account'),\n",
    "(008, 'Geetika', 'Chauhan', 90000, '14-04-11 09.00.00', 'Admin'),\n",
    "(009, 'Ersel', 'Kızmaz', 122000, '14-05-2022 09.00.00', 'DataScientist');"
   ]
  },
  {
   "cell_type": "code",
   "execution_count": 25,
   "id": "55cdff05-8276-420c-94db-c13d6a152666",
   "metadata": {},
   "outputs": [
    {
     "name": "stdout",
     "output_type": "stream",
     "text": [
      " * sqlite:///sql-examples.db\n",
      "Done.\n"
     ]
    },
    {
     "data": {
      "text/plain": [
       "[]"
      ]
     },
     "execution_count": 25,
     "metadata": {},
     "output_type": "execute_result"
    }
   ],
   "source": [
    "%%sql\n",
    "CREATE TABLE Bonus(\n",
    "    worker_ref_id INT,\n",
    "    bonus_amount INT(10),\n",
    "    bonus_date DATETIME,\n",
    "    FOREIGN KEY (worker_ref_id)\n",
    "        REFERENCES Workers (woker_id)\n",
    "    ON DELETE CASCADE);"
   ]
  },
  {
   "cell_type": "code",
   "execution_count": 26,
   "id": "46ecaa20-5e7b-4f00-8ada-441b3f5958d6",
   "metadata": {},
   "outputs": [
    {
     "name": "stdout",
     "output_type": "stream",
     "text": [
      " * sqlite:///sql-examples.db\n",
      "5 rows affected.\n"
     ]
    },
    {
     "data": {
      "text/plain": [
       "[]"
      ]
     },
     "execution_count": 26,
     "metadata": {},
     "output_type": "execute_result"
    }
   ],
   "source": [
    "%%sql\n",
    "INSERT INTO Bonus(worker_ref_id, bonus_amount, bonus_date)\n",
    "VALUES\n",
    "(001, 5000, '16-02-20'),\n",
    "(002, 3000, '16-06-11'),\n",
    "(003, 4000, '16-02,20'),\n",
    "(001, 4500, '16-02-20'),\n",
    "(002, 3500, '16-06-11');"
   ]
  },
  {
   "cell_type": "code",
   "execution_count": 27,
   "id": "b56acc78-8d2c-495a-824e-795a9dce91fa",
   "metadata": {},
   "outputs": [
    {
     "name": "stdout",
     "output_type": "stream",
     "text": [
      " * sqlite:///sql-examples.db\n",
      "Done.\n"
     ]
    },
    {
     "data": {
      "text/plain": [
       "[]"
      ]
     },
     "execution_count": 27,
     "metadata": {},
     "output_type": "execute_result"
    }
   ],
   "source": [
    "%%sql\n",
    "CREATE TABLE Title(\n",
    "    worker_ref_id INT,\n",
    "\tworker_title CHAR(25),\n",
    "\taffected_from DATETIME,\n",
    "\tFOREIGN KEY (worker_ref_id)\n",
    "\t\tREFERENCES Workers(worker_id)\n",
    "        ON DELETE CASCADE\n",
    ");"
   ]
  },
  {
   "cell_type": "code",
   "execution_count": 29,
   "id": "8194ba16-9dd2-462a-9904-2e80e3ea3603",
   "metadata": {},
   "outputs": [
    {
     "name": "stdout",
     "output_type": "stream",
     "text": [
      " * sqlite:///sql-examples.db\n",
      "9 rows affected.\n"
     ]
    },
    {
     "data": {
      "text/plain": [
       "[]"
      ]
     },
     "execution_count": 29,
     "metadata": {},
     "output_type": "execute_result"
    }
   ],
   "source": [
    "%%sql\n",
    "INSERT INTO Title (worker_ref_id, worker_title, affected_from) \n",
    "VALUES\n",
    "(001, 'Manager', '2016-02-20 00:00:00'),\n",
    "(002, 'Executive', '2016-06-11 00:00:00'),\n",
    "(008, 'Executive', '2016-06-11 00:00:00'),\n",
    "(005, 'Manager', '2016-06-11 00:00:00'),\n",
    "(004, 'Asst. Manager', '2016-06-11 00:00:00'),\n",
    "(007, 'Executive', '2016-06-11 00:00:00'),\n",
    "(006, 'Lead', '2016-06-11 00:00:00'),\n",
    "(003, 'Lead', '2016-06-11 00:00:00'),\n",
    "(009, 'Senior', '2016-05-22 00:00:00');"
   ]
  },
  {
   "cell_type": "markdown",
   "id": "0c8e0718-b733-4e7d-8209-7e30eac8206a",
   "metadata": {},
   "source": [
    "* ALL TABLES"
   ]
  },
  {
   "cell_type": "code",
   "execution_count": 30,
   "id": "7d61849c-3166-4091-955b-8a45d1416b1b",
   "metadata": {},
   "outputs": [
    {
     "name": "stdout",
     "output_type": "stream",
     "text": [
      " * sqlite:///sql-examples.db\n",
      "Done.\n"
     ]
    },
    {
     "data": {
      "text/html": [
       "<table>\n",
       "    <tr>\n",
       "        <th>name</th>\n",
       "    </tr>\n",
       "    <tr>\n",
       "        <td>Workers</td>\n",
       "    </tr>\n",
       "    <tr>\n",
       "        <td>Bonus</td>\n",
       "    </tr>\n",
       "    <tr>\n",
       "        <td>Title</td>\n",
       "    </tr>\n",
       "</table>"
      ],
      "text/plain": [
       "[('Workers',), ('Bonus',), ('Title',)]"
      ]
     },
     "execution_count": 30,
     "metadata": {},
     "output_type": "execute_result"
    }
   ],
   "source": [
    "%%sql\n",
    "SELECT name FROM sqlite_master WHERE type = 'table';"
   ]
  },
  {
   "cell_type": "code",
   "execution_count": 32,
   "id": "530df7e2-58af-46ae-b99c-8c9836aadda2",
   "metadata": {},
   "outputs": [],
   "source": [
    "# tabloların column isimleri"
   ]
  },
  {
   "cell_type": "code",
   "execution_count": 31,
   "id": "9e6dff13-a310-43f6-9f17-8fb7f471350a",
   "metadata": {},
   "outputs": [
    {
     "name": "stdout",
     "output_type": "stream",
     "text": [
      " * sqlite:///sql-examples.db\n",
      "Done.\n"
     ]
    },
    {
     "data": {
      "text/html": [
       "<table>\n",
       "    <tr>\n",
       "        <th>worker_id</th>\n",
       "        <th>first_name</th>\n",
       "        <th>last_name</th>\n",
       "        <th>salary</th>\n",
       "        <th>joining_date</th>\n",
       "        <th>department</th>\n",
       "    </tr>\n",
       "</table>"
      ],
      "text/plain": [
       "[]"
      ]
     },
     "execution_count": 31,
     "metadata": {},
     "output_type": "execute_result"
    }
   ],
   "source": [
    "%%sql\n",
    "SELECT * FROM Workers WHERE 1 = 0;"
   ]
  },
  {
   "cell_type": "code",
   "execution_count": 33,
   "id": "4a9b2dc3-6e32-4d48-8f64-91dcc1032937",
   "metadata": {},
   "outputs": [
    {
     "name": "stdout",
     "output_type": "stream",
     "text": [
      " * sqlite:///sql-examples.db\n",
      "Done.\n"
     ]
    },
    {
     "data": {
      "text/html": [
       "<table>\n",
       "    <tr>\n",
       "        <th>worker_ref_id</th>\n",
       "        <th>bonus_amount</th>\n",
       "        <th>bonus_date</th>\n",
       "    </tr>\n",
       "</table>"
      ],
      "text/plain": [
       "[]"
      ]
     },
     "execution_count": 33,
     "metadata": {},
     "output_type": "execute_result"
    }
   ],
   "source": [
    "%%sql\n",
    "SELECT * FROM Bonus WHERE 1 = 0;"
   ]
  },
  {
   "cell_type": "code",
   "execution_count": 34,
   "id": "d9c1e931-a5ff-454b-85cb-3ad20488f510",
   "metadata": {},
   "outputs": [
    {
     "name": "stdout",
     "output_type": "stream",
     "text": [
      " * sqlite:///sql-examples.db\n",
      "Done.\n"
     ]
    },
    {
     "data": {
      "text/html": [
       "<table>\n",
       "    <tr>\n",
       "        <th>worker_ref_id</th>\n",
       "        <th>worker_title</th>\n",
       "        <th>affected_from</th>\n",
       "    </tr>\n",
       "</table>"
      ],
      "text/plain": [
       "[]"
      ]
     },
     "execution_count": 34,
     "metadata": {},
     "output_type": "execute_result"
    }
   ],
   "source": [
    "%%sql\n",
    "SELECT * FROM Title WHERE 1 = 0;"
   ]
  },
  {
   "cell_type": "markdown",
   "id": "a133464d-3a3f-4b91-8aef-d3b65f3f65c2",
   "metadata": {},
   "source": [
    "## SQL 50-QUESTIONS"
   ]
  },
  {
   "cell_type": "markdown",
   "id": "2453fd72-04a7-45d1-a22c-caa0954c1dac",
   "metadata": {},
   "source": [
    "### Q-1: Write an SQL query to fetch “first_name” from Workers table using the alias name as worker_name"
   ]
  },
  {
   "cell_type": "code",
   "execution_count": 35,
   "id": "3256a08d-8b1e-46a3-aee5-7a2875fdd46d",
   "metadata": {},
   "outputs": [
    {
     "name": "stdout",
     "output_type": "stream",
     "text": [
      " * sqlite:///sql-examples.db\n",
      "Done.\n"
     ]
    },
    {
     "data": {
      "text/html": [
       "<table>\n",
       "    <tr>\n",
       "        <th>worker_name</th>\n",
       "    </tr>\n",
       "    <tr>\n",
       "        <td>Monika</td>\n",
       "    </tr>\n",
       "    <tr>\n",
       "        <td>Niharika</td>\n",
       "    </tr>\n",
       "    <tr>\n",
       "        <td>Vishal</td>\n",
       "    </tr>\n",
       "    <tr>\n",
       "        <td>Amitabh</td>\n",
       "    </tr>\n",
       "    <tr>\n",
       "        <td>Vivek</td>\n",
       "    </tr>\n",
       "    <tr>\n",
       "        <td>Vipul</td>\n",
       "    </tr>\n",
       "    <tr>\n",
       "        <td>Satish</td>\n",
       "    </tr>\n",
       "    <tr>\n",
       "        <td>Geetika</td>\n",
       "    </tr>\n",
       "    <tr>\n",
       "        <td>Ersel</td>\n",
       "    </tr>\n",
       "</table>"
      ],
      "text/plain": [
       "[('Monika',),\n",
       " ('Niharika',),\n",
       " ('Vishal',),\n",
       " ('Amitabh',),\n",
       " ('Vivek',),\n",
       " ('Vipul',),\n",
       " ('Satish',),\n",
       " ('Geetika',),\n",
       " ('Ersel',)]"
      ]
     },
     "execution_count": 35,
     "metadata": {},
     "output_type": "execute_result"
    }
   ],
   "source": [
    "%%sql\n",
    "SELECT first_name AS worker_name FROM Workers"
   ]
  },
  {
   "cell_type": "markdown",
   "id": "b7e0d6f1-ae0a-4a2d-a525-b17edefd3357",
   "metadata": {},
   "source": [
    "### Q-2: Write an SQL query to fetch “first_name” from Workers table in upper case."
   ]
  },
  {
   "cell_type": "code",
   "execution_count": 36,
   "id": "82ddd2aa-1413-40bb-a79d-db5ba61e753f",
   "metadata": {},
   "outputs": [
    {
     "name": "stdout",
     "output_type": "stream",
     "text": [
      " * sqlite:///sql-examples.db\n",
      "Done.\n"
     ]
    },
    {
     "data": {
      "text/html": [
       "<table>\n",
       "    <tr>\n",
       "        <th>upper(first_name)</th>\n",
       "    </tr>\n",
       "    <tr>\n",
       "        <td>MONIKA</td>\n",
       "    </tr>\n",
       "    <tr>\n",
       "        <td>NIHARIKA</td>\n",
       "    </tr>\n",
       "    <tr>\n",
       "        <td>VISHAL</td>\n",
       "    </tr>\n",
       "    <tr>\n",
       "        <td>AMITABH</td>\n",
       "    </tr>\n",
       "    <tr>\n",
       "        <td>VIVEK</td>\n",
       "    </tr>\n",
       "    <tr>\n",
       "        <td>VIPUL</td>\n",
       "    </tr>\n",
       "    <tr>\n",
       "        <td>SATISH</td>\n",
       "    </tr>\n",
       "    <tr>\n",
       "        <td>GEETIKA</td>\n",
       "    </tr>\n",
       "    <tr>\n",
       "        <td>ERSEL</td>\n",
       "    </tr>\n",
       "</table>"
      ],
      "text/plain": [
       "[('MONIKA',),\n",
       " ('NIHARIKA',),\n",
       " ('VISHAL',),\n",
       " ('AMITABH',),\n",
       " ('VIVEK',),\n",
       " ('VIPUL',),\n",
       " ('SATISH',),\n",
       " ('GEETIKA',),\n",
       " ('ERSEL',)]"
      ]
     },
     "execution_count": 36,
     "metadata": {},
     "output_type": "execute_result"
    }
   ],
   "source": [
    "%%sql\n",
    "SELECT upper(first_name) FROM Workers;"
   ]
  },
  {
   "cell_type": "markdown",
   "id": "5673eced-63df-43ce-af59-d027c56ab8ad",
   "metadata": {},
   "source": [
    "### Q-3: Write an SQL query to fetch unique values of department from Workers table."
   ]
  },
  {
   "cell_type": "code",
   "execution_count": 37,
   "id": "c1ca87fe-a0d1-415d-aab7-d1edc105803a",
   "metadata": {},
   "outputs": [
    {
     "name": "stdout",
     "output_type": "stream",
     "text": [
      " * sqlite:///sql-examples.db\n",
      "Done.\n"
     ]
    },
    {
     "data": {
      "text/html": [
       "<table>\n",
       "    <tr>\n",
       "        <th>department</th>\n",
       "    </tr>\n",
       "    <tr>\n",
       "        <td>HR</td>\n",
       "    </tr>\n",
       "    <tr>\n",
       "        <td>Admin</td>\n",
       "    </tr>\n",
       "    <tr>\n",
       "        <td>Account</td>\n",
       "    </tr>\n",
       "    <tr>\n",
       "        <td>DataScientist</td>\n",
       "    </tr>\n",
       "</table>"
      ],
      "text/plain": [
       "[('HR',), ('Admin',), ('Account',), ('DataScientist',)]"
      ]
     },
     "execution_count": 37,
     "metadata": {},
     "output_type": "execute_result"
    }
   ],
   "source": [
    "%%sql\n",
    "SELECT DISTINCT department FROM Workers"
   ]
  },
  {
   "cell_type": "markdown",
   "id": "365cee19-7f56-4712-937e-98b706e287f9",
   "metadata": {},
   "source": [
    "### Q-4: Write an SQL query to print the first three characters of first_name from Workers table."
   ]
  },
  {
   "cell_type": "code",
   "execution_count": 61,
   "id": "50d2e8c1-5406-4ed0-81db-2e337e5f625d",
   "metadata": {},
   "outputs": [
    {
     "name": "stdout",
     "output_type": "stream",
     "text": [
      " * sqlite:///sql-examples.db\n",
      "Done.\n"
     ]
    },
    {
     "data": {
      "text/html": [
       "<table>\n",
       "    <tr>\n",
       "        <th>letters3</th>\n",
       "    </tr>\n",
       "    <tr>\n",
       "        <td>Mon</td>\n",
       "    </tr>\n",
       "    <tr>\n",
       "        <td>Nih</td>\n",
       "    </tr>\n",
       "    <tr>\n",
       "        <td>Vis</td>\n",
       "    </tr>\n",
       "    <tr>\n",
       "        <td>Ami</td>\n",
       "    </tr>\n",
       "    <tr>\n",
       "        <td>Viv</td>\n",
       "    </tr>\n",
       "    <tr>\n",
       "        <td>Vip</td>\n",
       "    </tr>\n",
       "    <tr>\n",
       "        <td>Sat</td>\n",
       "    </tr>\n",
       "    <tr>\n",
       "        <td>Gee</td>\n",
       "    </tr>\n",
       "    <tr>\n",
       "        <td>Ers</td>\n",
       "    </tr>\n",
       "</table>"
      ],
      "text/plain": [
       "[('Mon',),\n",
       " ('Nih',),\n",
       " ('Vis',),\n",
       " ('Ami',),\n",
       " ('Viv',),\n",
       " ('Vip',),\n",
       " ('Sat',),\n",
       " ('Gee',),\n",
       " ('Ers',)]"
      ]
     },
     "execution_count": 61,
     "metadata": {},
     "output_type": "execute_result"
    }
   ],
   "source": [
    "%%sql\n",
    "SELECT SUBSTR(first_name, 1, 3) AS letters3 FROM Workers;"
   ]
  },
  {
   "cell_type": "markdown",
   "id": "be3cd484-0967-409a-8dd3-0afbf2bea570",
   "metadata": {},
   "source": [
    "### Q-5: Write an SQL query to find the position of the alphabet (‘a’) in the first_name column ‘Amitabh’ from Workers table."
   ]
  },
  {
   "cell_type": "code",
   "execution_count": 62,
   "id": "b55dc3e2-4eaf-41e9-ac47-03babd4faf38",
   "metadata": {},
   "outputs": [
    {
     "name": "stdout",
     "output_type": "stream",
     "text": [
      " * sqlite:///sql-examples.db\n",
      "Done.\n"
     ]
    },
    {
     "data": {
      "text/html": [
       "<table>\n",
       "    <tr>\n",
       "        <th>worker_id</th>\n",
       "        <th>first_name</th>\n",
       "        <th>last_name</th>\n",
       "        <th>salary</th>\n",
       "        <th>joining_date</th>\n",
       "        <th>department</th>\n",
       "    </tr>\n",
       "    <tr>\n",
       "        <td>4</td>\n",
       "        <td>Amitabh</td>\n",
       "        <td>Singh</td>\n",
       "        <td>500000</td>\n",
       "        <td>14-02-20 09.00.00</td>\n",
       "        <td>Admin</td>\n",
       "    </tr>\n",
       "</table>"
      ],
      "text/plain": [
       "[(4, 'Amitabh', 'Singh', 500000, '14-02-20 09.00.00', 'Admin')]"
      ]
     },
     "execution_count": 62,
     "metadata": {},
     "output_type": "execute_result"
    }
   ],
   "source": [
    "%%sql\n",
    "SELECT * FROM Workers\n",
    "WHERE first_name \n",
    "LIKE 'a%';"
   ]
  },
  {
   "cell_type": "code",
   "execution_count": 71,
   "id": "9169008a-2f3c-48cc-8c4b-955410ef758d",
   "metadata": {},
   "outputs": [],
   "source": [
    "# daha sonra incele!"
   ]
  },
  {
   "cell_type": "markdown",
   "id": "e2f1bade-a8e1-48d3-b065-4a255905b449",
   "metadata": {},
   "source": [
    "### Q-6: Write an SQL query to print the first_name from Workers table after removing white spaces from the right side."
   ]
  },
  {
   "cell_type": "code",
   "execution_count": 73,
   "id": "6848de98-df0a-47ff-9361-4d946149a93c",
   "metadata": {},
   "outputs": [
    {
     "name": "stdout",
     "output_type": "stream",
     "text": [
      " * sqlite:///sql-examples.db\n",
      "Done.\n"
     ]
    },
    {
     "data": {
      "text/html": [
       "<table>\n",
       "    <tr>\n",
       "        <th>RTRIM(first_name)</th>\n",
       "    </tr>\n",
       "    <tr>\n",
       "        <td>Monika</td>\n",
       "    </tr>\n",
       "    <tr>\n",
       "        <td>Niharika</td>\n",
       "    </tr>\n",
       "    <tr>\n",
       "        <td>Vishal</td>\n",
       "    </tr>\n",
       "    <tr>\n",
       "        <td>Amitabh</td>\n",
       "    </tr>\n",
       "    <tr>\n",
       "        <td>Vivek</td>\n",
       "    </tr>\n",
       "    <tr>\n",
       "        <td>Vipul</td>\n",
       "    </tr>\n",
       "    <tr>\n",
       "        <td>Satish</td>\n",
       "    </tr>\n",
       "    <tr>\n",
       "        <td>Geetika</td>\n",
       "    </tr>\n",
       "    <tr>\n",
       "        <td>Ersel</td>\n",
       "    </tr>\n",
       "</table>"
      ],
      "text/plain": [
       "[('Monika',),\n",
       " ('Niharika',),\n",
       " ('Vishal',),\n",
       " ('Amitabh',),\n",
       " ('Vivek',),\n",
       " ('Vipul',),\n",
       " ('Satish',),\n",
       " ('Geetika',),\n",
       " ('Ersel',)]"
      ]
     },
     "execution_count": 73,
     "metadata": {},
     "output_type": "execute_result"
    }
   ],
   "source": [
    "%%sql\n",
    "SELECT RTRIM(first_name) FROM Workers;"
   ]
  },
  {
   "cell_type": "markdown",
   "id": "385e0e12-1745-4c03-9ce8-fd61a6da9bd0",
   "metadata": {},
   "source": [
    "### Q-7: Write an SQL query to print the department from Workers table after removing white spaces from the left side."
   ]
  },
  {
   "cell_type": "code",
   "execution_count": 74,
   "id": "57831642-6981-4efb-a87a-3f2910a99730",
   "metadata": {},
   "outputs": [
    {
     "name": "stdout",
     "output_type": "stream",
     "text": [
      " * sqlite:///sql-examples.db\n",
      "Done.\n"
     ]
    },
    {
     "data": {
      "text/html": [
       "<table>\n",
       "    <tr>\n",
       "        <th>RTRIM(department)</th>\n",
       "    </tr>\n",
       "    <tr>\n",
       "        <td>HR</td>\n",
       "    </tr>\n",
       "    <tr>\n",
       "        <td>Admin</td>\n",
       "    </tr>\n",
       "    <tr>\n",
       "        <td>HR</td>\n",
       "    </tr>\n",
       "    <tr>\n",
       "        <td>Admin</td>\n",
       "    </tr>\n",
       "    <tr>\n",
       "        <td>Admin</td>\n",
       "    </tr>\n",
       "    <tr>\n",
       "        <td>Account</td>\n",
       "    </tr>\n",
       "    <tr>\n",
       "        <td>Account</td>\n",
       "    </tr>\n",
       "    <tr>\n",
       "        <td>Admin</td>\n",
       "    </tr>\n",
       "    <tr>\n",
       "        <td>DataScientist</td>\n",
       "    </tr>\n",
       "</table>"
      ],
      "text/plain": [
       "[('HR',),\n",
       " ('Admin',),\n",
       " ('HR',),\n",
       " ('Admin',),\n",
       " ('Admin',),\n",
       " ('Account',),\n",
       " ('Account',),\n",
       " ('Admin',),\n",
       " ('DataScientist',)]"
      ]
     },
     "execution_count": 74,
     "metadata": {},
     "output_type": "execute_result"
    }
   ],
   "source": [
    "%%sql\n",
    "SELECT RTRIM(department) FROM Workers;"
   ]
  },
  {
   "cell_type": "markdown",
   "id": "01022898-3310-4237-9cc6-713bd729e71e",
   "metadata": {},
   "source": [
    "### Q-8: Write an SQL query that fetches the unique values of department from Workers table and prints its length."
   ]
  },
  {
   "cell_type": "code",
   "execution_count": 78,
   "id": "77f54011-8f62-41f1-b711-5929d22a4a81",
   "metadata": {},
   "outputs": [
    {
     "name": "stdout",
     "output_type": "stream",
     "text": [
      " * sqlite:///sql-examples.db\n",
      "Done.\n"
     ]
    },
    {
     "data": {
      "text/html": [
       "<table>\n",
       "    <tr>\n",
       "        <th>LENGTH(department)</th>\n",
       "    </tr>\n",
       "    <tr>\n",
       "        <td>2</td>\n",
       "    </tr>\n",
       "    <tr>\n",
       "        <td>5</td>\n",
       "    </tr>\n",
       "    <tr>\n",
       "        <td>7</td>\n",
       "    </tr>\n",
       "    <tr>\n",
       "        <td>13</td>\n",
       "    </tr>\n",
       "</table>"
      ],
      "text/plain": [
       "[(2,), (5,), (7,), (13,)]"
      ]
     },
     "execution_count": 78,
     "metadata": {},
     "output_type": "execute_result"
    }
   ],
   "source": [
    "%%sql\n",
    "SELECT DISTINCT LENGTH(department) FROM Workers"
   ]
  },
  {
   "cell_type": "markdown",
   "id": "b9000392-e049-4d63-be6c-560f363a0f29",
   "metadata": {},
   "source": [
    "### Q-9: Write an SQL query to print the first_name from Workers table after replacing ‘a’ with ‘A’."
   ]
  },
  {
   "cell_type": "code",
   "execution_count": 79,
   "id": "19bbaf56-5342-4b63-bd7d-f62b3dafcfed",
   "metadata": {},
   "outputs": [
    {
     "name": "stdout",
     "output_type": "stream",
     "text": [
      " * sqlite:///sql-examples.db\n",
      "Done.\n"
     ]
    },
    {
     "data": {
      "text/html": [
       "<table>\n",
       "    <tr>\n",
       "        <th>REPLACE(first_name, &#x27;a&#x27;, &#x27;A&#x27;)</th>\n",
       "    </tr>\n",
       "    <tr>\n",
       "        <td>MonikA</td>\n",
       "    </tr>\n",
       "    <tr>\n",
       "        <td>NihArikA</td>\n",
       "    </tr>\n",
       "    <tr>\n",
       "        <td>VishAl</td>\n",
       "    </tr>\n",
       "    <tr>\n",
       "        <td>AmitAbh</td>\n",
       "    </tr>\n",
       "    <tr>\n",
       "        <td>Vivek</td>\n",
       "    </tr>\n",
       "    <tr>\n",
       "        <td>Vipul</td>\n",
       "    </tr>\n",
       "    <tr>\n",
       "        <td>SAtish</td>\n",
       "    </tr>\n",
       "    <tr>\n",
       "        <td>GeetikA</td>\n",
       "    </tr>\n",
       "    <tr>\n",
       "        <td>Ersel</td>\n",
       "    </tr>\n",
       "</table>"
      ],
      "text/plain": [
       "[('MonikA',),\n",
       " ('NihArikA',),\n",
       " ('VishAl',),\n",
       " ('AmitAbh',),\n",
       " ('Vivek',),\n",
       " ('Vipul',),\n",
       " ('SAtish',),\n",
       " ('GeetikA',),\n",
       " ('Ersel',)]"
      ]
     },
     "execution_count": 79,
     "metadata": {},
     "output_type": "execute_result"
    }
   ],
   "source": [
    "%%sql\n",
    "SELECT REPLACE(first_name, 'a', 'A') FROM Workers;"
   ]
  },
  {
   "cell_type": "markdown",
   "id": "7f40b45b-53b9-49e0-9824-e1e2914995db",
   "metadata": {},
   "source": [
    "### Q-10: Write an SQL query to print the first_name and last_name from Workers table into a single column complete_name. A space char should separate them."
   ]
  },
  {
   "cell_type": "code",
   "execution_count": 81,
   "id": "e8691a1c-59d7-4af1-8662-512887e982cb",
   "metadata": {},
   "outputs": [
    {
     "name": "stdout",
     "output_type": "stream",
     "text": [
      " * sqlite:///sql-examples.db\n",
      "Done.\n"
     ]
    },
    {
     "data": {
      "text/html": [
       "<table>\n",
       "    <tr>\n",
       "        <th>complete_name</th>\n",
       "    </tr>\n",
       "    <tr>\n",
       "        <td>Monika Arora</td>\n",
       "    </tr>\n",
       "    <tr>\n",
       "        <td>Niharika Verma</td>\n",
       "    </tr>\n",
       "    <tr>\n",
       "        <td>Vishal Singhal</td>\n",
       "    </tr>\n",
       "    <tr>\n",
       "        <td>Amitabh Singh</td>\n",
       "    </tr>\n",
       "    <tr>\n",
       "        <td>Vivek Bhati</td>\n",
       "    </tr>\n",
       "    <tr>\n",
       "        <td>Vipul Diwan</td>\n",
       "    </tr>\n",
       "    <tr>\n",
       "        <td>Satish Kumar</td>\n",
       "    </tr>\n",
       "    <tr>\n",
       "        <td>Geetika Chauhan</td>\n",
       "    </tr>\n",
       "    <tr>\n",
       "        <td>Ersel Kızmaz</td>\n",
       "    </tr>\n",
       "</table>"
      ],
      "text/plain": [
       "[('Monika Arora',),\n",
       " ('Niharika Verma',),\n",
       " ('Vishal Singhal',),\n",
       " ('Amitabh Singh',),\n",
       " ('Vivek Bhati',),\n",
       " ('Vipul Diwan',),\n",
       " ('Satish Kumar',),\n",
       " ('Geetika Chauhan',),\n",
       " ('Ersel Kızmaz',)]"
      ]
     },
     "execution_count": 81,
     "metadata": {},
     "output_type": "execute_result"
    }
   ],
   "source": [
    "%%sql\n",
    "SELECT (first_name || ' ' || last_name) AS complete_name \n",
    "FROM Workers;"
   ]
  },
  {
   "cell_type": "markdown",
   "id": "ae87e8ef-6ac0-4676-bbc8-ce3bee7ac29e",
   "metadata": {},
   "source": [
    "### Q-11: Write an SQL query to print all Workers details from the Workers table order by first_name Ascending."
   ]
  },
  {
   "cell_type": "code",
   "execution_count": 85,
   "id": "5a9499bd-3340-4347-9829-f095b3c701d2",
   "metadata": {},
   "outputs": [
    {
     "name": "stdout",
     "output_type": "stream",
     "text": [
      " * sqlite:///sql-examples.db\n",
      "Done.\n"
     ]
    },
    {
     "data": {
      "text/html": [
       "<table>\n",
       "    <tr>\n",
       "        <th>worker_id</th>\n",
       "        <th>first_name</th>\n",
       "        <th>last_name</th>\n",
       "        <th>salary</th>\n",
       "        <th>joining_date</th>\n",
       "        <th>department</th>\n",
       "    </tr>\n",
       "    <tr>\n",
       "        <td>4</td>\n",
       "        <td>Amitabh</td>\n",
       "        <td>Singh</td>\n",
       "        <td>500000</td>\n",
       "        <td>14-02-20 09.00.00</td>\n",
       "        <td>Admin</td>\n",
       "    </tr>\n",
       "    <tr>\n",
       "        <td>9</td>\n",
       "        <td>Ersel</td>\n",
       "        <td>Kızmaz</td>\n",
       "        <td>122000</td>\n",
       "        <td>14-05-2022 09.00.00</td>\n",
       "        <td>DataScientist</td>\n",
       "    </tr>\n",
       "    <tr>\n",
       "        <td>8</td>\n",
       "        <td>Geetika</td>\n",
       "        <td>Chauhan</td>\n",
       "        <td>90000</td>\n",
       "        <td>14-04-11 09.00.00</td>\n",
       "        <td>Admin</td>\n",
       "    </tr>\n",
       "    <tr>\n",
       "        <td>1</td>\n",
       "        <td>Monika</td>\n",
       "        <td>Arora</td>\n",
       "        <td>100000</td>\n",
       "        <td>14-02-20 09.00.00</td>\n",
       "        <td>HR</td>\n",
       "    </tr>\n",
       "    <tr>\n",
       "        <td>2</td>\n",
       "        <td>Niharika</td>\n",
       "        <td>Verma</td>\n",
       "        <td>80000</td>\n",
       "        <td>14-06-11 09.00.00</td>\n",
       "        <td>Admin</td>\n",
       "    </tr>\n",
       "    <tr>\n",
       "        <td>7</td>\n",
       "        <td>Satish</td>\n",
       "        <td>Kumar</td>\n",
       "        <td>75000</td>\n",
       "        <td>14-01-20 09.00.00</td>\n",
       "        <td>Account</td>\n",
       "    </tr>\n",
       "    <tr>\n",
       "        <td>6</td>\n",
       "        <td>Vipul</td>\n",
       "        <td>Diwan</td>\n",
       "        <td>200000</td>\n",
       "        <td>14-06-11 09.00.00</td>\n",
       "        <td>Account</td>\n",
       "    </tr>\n",
       "    <tr>\n",
       "        <td>3</td>\n",
       "        <td>Vishal</td>\n",
       "        <td>Singhal</td>\n",
       "        <td>300000</td>\n",
       "        <td>14-02-20 09.00.00</td>\n",
       "        <td>HR</td>\n",
       "    </tr>\n",
       "    <tr>\n",
       "        <td>5</td>\n",
       "        <td>Vivek</td>\n",
       "        <td>Bhati</td>\n",
       "        <td>500000</td>\n",
       "        <td>14-06-11 09.00.00</td>\n",
       "        <td>Admin</td>\n",
       "    </tr>\n",
       "</table>"
      ],
      "text/plain": [
       "[(4, 'Amitabh', 'Singh', 500000, '14-02-20 09.00.00', 'Admin'),\n",
       " (9, 'Ersel', 'Kızmaz', 122000, '14-05-2022 09.00.00', 'DataScientist'),\n",
       " (8, 'Geetika', 'Chauhan', 90000, '14-04-11 09.00.00', 'Admin'),\n",
       " (1, 'Monika', 'Arora', 100000, '14-02-20 09.00.00', 'HR'),\n",
       " (2, 'Niharika', 'Verma', 80000, '14-06-11 09.00.00', 'Admin'),\n",
       " (7, 'Satish', 'Kumar', 75000, '14-01-20 09.00.00', 'Account'),\n",
       " (6, 'Vipul', 'Diwan', 200000, '14-06-11 09.00.00', 'Account'),\n",
       " (3, 'Vishal', 'Singhal', 300000, '14-02-20 09.00.00', 'HR'),\n",
       " (5, 'Vivek', 'Bhati', 500000, '14-06-11 09.00.00', 'Admin')]"
      ]
     },
     "execution_count": 85,
     "metadata": {},
     "output_type": "execute_result"
    }
   ],
   "source": [
    "%%sql\n",
    "SELECT * FROM Workers \n",
    "ORDER BY first_name ASC;"
   ]
  },
  {
   "cell_type": "markdown",
   "id": "0af82da5-9449-4278-be8d-d67254f90620",
   "metadata": {},
   "source": [
    "### Q-12: Write an SQL query to print all Workers details from the Workers table order by first_name Ascending and department Descending."
   ]
  },
  {
   "cell_type": "code",
   "execution_count": 89,
   "id": "40c678aa-e269-455b-aae3-8eeb9c66b6c7",
   "metadata": {},
   "outputs": [
    {
     "name": "stdout",
     "output_type": "stream",
     "text": [
      " * sqlite:///sql-examples.db\n",
      "Done.\n"
     ]
    },
    {
     "data": {
      "text/html": [
       "<table>\n",
       "    <tr>\n",
       "        <th>worker_id</th>\n",
       "        <th>first_name</th>\n",
       "        <th>last_name</th>\n",
       "        <th>salary</th>\n",
       "        <th>joining_date</th>\n",
       "        <th>department</th>\n",
       "    </tr>\n",
       "    <tr>\n",
       "        <td>4</td>\n",
       "        <td>Amitabh</td>\n",
       "        <td>Singh</td>\n",
       "        <td>500000</td>\n",
       "        <td>14-02-20 09.00.00</td>\n",
       "        <td>Admin</td>\n",
       "    </tr>\n",
       "    <tr>\n",
       "        <td>9</td>\n",
       "        <td>Ersel</td>\n",
       "        <td>Kızmaz</td>\n",
       "        <td>122000</td>\n",
       "        <td>14-05-2022 09.00.00</td>\n",
       "        <td>DataScientist</td>\n",
       "    </tr>\n",
       "    <tr>\n",
       "        <td>8</td>\n",
       "        <td>Geetika</td>\n",
       "        <td>Chauhan</td>\n",
       "        <td>90000</td>\n",
       "        <td>14-04-11 09.00.00</td>\n",
       "        <td>Admin</td>\n",
       "    </tr>\n",
       "    <tr>\n",
       "        <td>1</td>\n",
       "        <td>Monika</td>\n",
       "        <td>Arora</td>\n",
       "        <td>100000</td>\n",
       "        <td>14-02-20 09.00.00</td>\n",
       "        <td>HR</td>\n",
       "    </tr>\n",
       "    <tr>\n",
       "        <td>2</td>\n",
       "        <td>Niharika</td>\n",
       "        <td>Verma</td>\n",
       "        <td>80000</td>\n",
       "        <td>14-06-11 09.00.00</td>\n",
       "        <td>Admin</td>\n",
       "    </tr>\n",
       "    <tr>\n",
       "        <td>7</td>\n",
       "        <td>Satish</td>\n",
       "        <td>Kumar</td>\n",
       "        <td>75000</td>\n",
       "        <td>14-01-20 09.00.00</td>\n",
       "        <td>Account</td>\n",
       "    </tr>\n",
       "    <tr>\n",
       "        <td>6</td>\n",
       "        <td>Vipul</td>\n",
       "        <td>Diwan</td>\n",
       "        <td>200000</td>\n",
       "        <td>14-06-11 09.00.00</td>\n",
       "        <td>Account</td>\n",
       "    </tr>\n",
       "    <tr>\n",
       "        <td>3</td>\n",
       "        <td>Vishal</td>\n",
       "        <td>Singhal</td>\n",
       "        <td>300000</td>\n",
       "        <td>14-02-20 09.00.00</td>\n",
       "        <td>HR</td>\n",
       "    </tr>\n",
       "    <tr>\n",
       "        <td>5</td>\n",
       "        <td>Vivek</td>\n",
       "        <td>Bhati</td>\n",
       "        <td>500000</td>\n",
       "        <td>14-06-11 09.00.00</td>\n",
       "        <td>Admin</td>\n",
       "    </tr>\n",
       "</table>"
      ],
      "text/plain": [
       "[(4, 'Amitabh', 'Singh', 500000, '14-02-20 09.00.00', 'Admin'),\n",
       " (9, 'Ersel', 'Kızmaz', 122000, '14-05-2022 09.00.00', 'DataScientist'),\n",
       " (8, 'Geetika', 'Chauhan', 90000, '14-04-11 09.00.00', 'Admin'),\n",
       " (1, 'Monika', 'Arora', 100000, '14-02-20 09.00.00', 'HR'),\n",
       " (2, 'Niharika', 'Verma', 80000, '14-06-11 09.00.00', 'Admin'),\n",
       " (7, 'Satish', 'Kumar', 75000, '14-01-20 09.00.00', 'Account'),\n",
       " (6, 'Vipul', 'Diwan', 200000, '14-06-11 09.00.00', 'Account'),\n",
       " (3, 'Vishal', 'Singhal', 300000, '14-02-20 09.00.00', 'HR'),\n",
       " (5, 'Vivek', 'Bhati', 500000, '14-06-11 09.00.00', 'Admin')]"
      ]
     },
     "execution_count": 89,
     "metadata": {},
     "output_type": "execute_result"
    }
   ],
   "source": [
    "%%sql\n",
    "SELECT * FROM Workers\n",
    "ORDER BY first_name ASC, department DESC;"
   ]
  },
  {
   "cell_type": "markdown",
   "id": "12e9c128-0f23-4249-9d89-092578f46294",
   "metadata": {},
   "source": [
    "### Q-13: Write an SQL query to print details for workers with the first_name as “Vipul” and “Satish” from Workers table."
   ]
  },
  {
   "cell_type": "code",
   "execution_count": 91,
   "id": "ebec5558-9f90-49d6-b22c-661c28ee7985",
   "metadata": {},
   "outputs": [
    {
     "name": "stdout",
     "output_type": "stream",
     "text": [
      " * sqlite:///sql-examples.db\n",
      "Done.\n"
     ]
    },
    {
     "data": {
      "text/html": [
       "<table>\n",
       "    <tr>\n",
       "        <th>worker_id</th>\n",
       "        <th>first_name</th>\n",
       "        <th>last_name</th>\n",
       "        <th>salary</th>\n",
       "        <th>joining_date</th>\n",
       "        <th>department</th>\n",
       "    </tr>\n",
       "    <tr>\n",
       "        <td>6</td>\n",
       "        <td>Vipul</td>\n",
       "        <td>Diwan</td>\n",
       "        <td>200000</td>\n",
       "        <td>14-06-11 09.00.00</td>\n",
       "        <td>Account</td>\n",
       "    </tr>\n",
       "    <tr>\n",
       "        <td>7</td>\n",
       "        <td>Satish</td>\n",
       "        <td>Kumar</td>\n",
       "        <td>75000</td>\n",
       "        <td>14-01-20 09.00.00</td>\n",
       "        <td>Account</td>\n",
       "    </tr>\n",
       "</table>"
      ],
      "text/plain": [
       "[(6, 'Vipul', 'Diwan', 200000, '14-06-11 09.00.00', 'Account'),\n",
       " (7, 'Satish', 'Kumar', 75000, '14-01-20 09.00.00', 'Account')]"
      ]
     },
     "execution_count": 91,
     "metadata": {},
     "output_type": "execute_result"
    }
   ],
   "source": [
    "%%sql\n",
    "SELECT * FROM Workers\n",
    "WHERE first_name IN ('Vipul', 'Satish');"
   ]
  },
  {
   "cell_type": "markdown",
   "id": "af837ea5-2c43-4a58-8c70-fc99eea3716a",
   "metadata": {},
   "source": [
    "### Q-14: Write an SQL query to print details of workers excluding first names, “Vipul” and “Satish” from Workers table."
   ]
  },
  {
   "cell_type": "code",
   "execution_count": 92,
   "id": "fad69c18-f9b5-41c1-bd5b-a7eb907cfcf8",
   "metadata": {},
   "outputs": [
    {
     "name": "stdout",
     "output_type": "stream",
     "text": [
      " * sqlite:///sql-examples.db\n",
      "Done.\n"
     ]
    },
    {
     "data": {
      "text/html": [
       "<table>\n",
       "    <tr>\n",
       "        <th>worker_id</th>\n",
       "        <th>first_name</th>\n",
       "        <th>last_name</th>\n",
       "        <th>salary</th>\n",
       "        <th>joining_date</th>\n",
       "        <th>department</th>\n",
       "    </tr>\n",
       "    <tr>\n",
       "        <td>1</td>\n",
       "        <td>Monika</td>\n",
       "        <td>Arora</td>\n",
       "        <td>100000</td>\n",
       "        <td>14-02-20 09.00.00</td>\n",
       "        <td>HR</td>\n",
       "    </tr>\n",
       "    <tr>\n",
       "        <td>2</td>\n",
       "        <td>Niharika</td>\n",
       "        <td>Verma</td>\n",
       "        <td>80000</td>\n",
       "        <td>14-06-11 09.00.00</td>\n",
       "        <td>Admin</td>\n",
       "    </tr>\n",
       "    <tr>\n",
       "        <td>3</td>\n",
       "        <td>Vishal</td>\n",
       "        <td>Singhal</td>\n",
       "        <td>300000</td>\n",
       "        <td>14-02-20 09.00.00</td>\n",
       "        <td>HR</td>\n",
       "    </tr>\n",
       "    <tr>\n",
       "        <td>4</td>\n",
       "        <td>Amitabh</td>\n",
       "        <td>Singh</td>\n",
       "        <td>500000</td>\n",
       "        <td>14-02-20 09.00.00</td>\n",
       "        <td>Admin</td>\n",
       "    </tr>\n",
       "    <tr>\n",
       "        <td>5</td>\n",
       "        <td>Vivek</td>\n",
       "        <td>Bhati</td>\n",
       "        <td>500000</td>\n",
       "        <td>14-06-11 09.00.00</td>\n",
       "        <td>Admin</td>\n",
       "    </tr>\n",
       "    <tr>\n",
       "        <td>8</td>\n",
       "        <td>Geetika</td>\n",
       "        <td>Chauhan</td>\n",
       "        <td>90000</td>\n",
       "        <td>14-04-11 09.00.00</td>\n",
       "        <td>Admin</td>\n",
       "    </tr>\n",
       "    <tr>\n",
       "        <td>9</td>\n",
       "        <td>Ersel</td>\n",
       "        <td>Kızmaz</td>\n",
       "        <td>122000</td>\n",
       "        <td>14-05-2022 09.00.00</td>\n",
       "        <td>DataScientist</td>\n",
       "    </tr>\n",
       "</table>"
      ],
      "text/plain": [
       "[(1, 'Monika', 'Arora', 100000, '14-02-20 09.00.00', 'HR'),\n",
       " (2, 'Niharika', 'Verma', 80000, '14-06-11 09.00.00', 'Admin'),\n",
       " (3, 'Vishal', 'Singhal', 300000, '14-02-20 09.00.00', 'HR'),\n",
       " (4, 'Amitabh', 'Singh', 500000, '14-02-20 09.00.00', 'Admin'),\n",
       " (5, 'Vivek', 'Bhati', 500000, '14-06-11 09.00.00', 'Admin'),\n",
       " (8, 'Geetika', 'Chauhan', 90000, '14-04-11 09.00.00', 'Admin'),\n",
       " (9, 'Ersel', 'Kızmaz', 122000, '14-05-2022 09.00.00', 'DataScientist')]"
      ]
     },
     "execution_count": 92,
     "metadata": {},
     "output_type": "execute_result"
    }
   ],
   "source": [
    "%%sql\n",
    "SELECT * FROM Workers\n",
    "WHERE first_name NOT IN ('Vipul', 'Satish');"
   ]
  },
  {
   "cell_type": "markdown",
   "id": "564305e4-6c51-4c4d-9512-8fad7af55560",
   "metadata": {},
   "source": [
    "### Q-15: Write an SQL query to print details of Workers with department name as “Admin”."
   ]
  },
  {
   "cell_type": "code",
   "execution_count": 93,
   "id": "c17905e6-fcef-4f2d-9d61-0504af767a74",
   "metadata": {},
   "outputs": [
    {
     "name": "stdout",
     "output_type": "stream",
     "text": [
      " * sqlite:///sql-examples.db\n",
      "Done.\n"
     ]
    },
    {
     "data": {
      "text/html": [
       "<table>\n",
       "    <tr>\n",
       "        <th>worker_id</th>\n",
       "        <th>first_name</th>\n",
       "        <th>last_name</th>\n",
       "        <th>salary</th>\n",
       "        <th>joining_date</th>\n",
       "        <th>department</th>\n",
       "    </tr>\n",
       "    <tr>\n",
       "        <td>2</td>\n",
       "        <td>Niharika</td>\n",
       "        <td>Verma</td>\n",
       "        <td>80000</td>\n",
       "        <td>14-06-11 09.00.00</td>\n",
       "        <td>Admin</td>\n",
       "    </tr>\n",
       "    <tr>\n",
       "        <td>4</td>\n",
       "        <td>Amitabh</td>\n",
       "        <td>Singh</td>\n",
       "        <td>500000</td>\n",
       "        <td>14-02-20 09.00.00</td>\n",
       "        <td>Admin</td>\n",
       "    </tr>\n",
       "    <tr>\n",
       "        <td>5</td>\n",
       "        <td>Vivek</td>\n",
       "        <td>Bhati</td>\n",
       "        <td>500000</td>\n",
       "        <td>14-06-11 09.00.00</td>\n",
       "        <td>Admin</td>\n",
       "    </tr>\n",
       "    <tr>\n",
       "        <td>8</td>\n",
       "        <td>Geetika</td>\n",
       "        <td>Chauhan</td>\n",
       "        <td>90000</td>\n",
       "        <td>14-04-11 09.00.00</td>\n",
       "        <td>Admin</td>\n",
       "    </tr>\n",
       "</table>"
      ],
      "text/plain": [
       "[(2, 'Niharika', 'Verma', 80000, '14-06-11 09.00.00', 'Admin'),\n",
       " (4, 'Amitabh', 'Singh', 500000, '14-02-20 09.00.00', 'Admin'),\n",
       " (5, 'Vivek', 'Bhati', 500000, '14-06-11 09.00.00', 'Admin'),\n",
       " (8, 'Geetika', 'Chauhan', 90000, '14-04-11 09.00.00', 'Admin')]"
      ]
     },
     "execution_count": 93,
     "metadata": {},
     "output_type": "execute_result"
    }
   ],
   "source": [
    "%%sql\n",
    "SELECT * FROM Workers\n",
    "WHERE department = 'Admin';"
   ]
  },
  {
   "cell_type": "markdown",
   "id": "be3da4e0-9bf9-4cbc-9dc2-c04d1b5eccc5",
   "metadata": {},
   "source": [
    "### Q-16: Write an SQL query to print details of the Workers whose first_name contains ‘a’."
   ]
  },
  {
   "cell_type": "code",
   "execution_count": 95,
   "id": "87e2f60d-9aae-4adf-8f1d-314ee23c0e84",
   "metadata": {},
   "outputs": [
    {
     "name": "stdout",
     "output_type": "stream",
     "text": [
      " * sqlite:///sql-examples.db\n",
      "Done.\n"
     ]
    },
    {
     "data": {
      "text/html": [
       "<table>\n",
       "    <tr>\n",
       "        <th>worker_id</th>\n",
       "        <th>first_name</th>\n",
       "        <th>last_name</th>\n",
       "        <th>salary</th>\n",
       "        <th>joining_date</th>\n",
       "        <th>department</th>\n",
       "    </tr>\n",
       "    <tr>\n",
       "        <td>1</td>\n",
       "        <td>Monika</td>\n",
       "        <td>Arora</td>\n",
       "        <td>100000</td>\n",
       "        <td>14-02-20 09.00.00</td>\n",
       "        <td>HR</td>\n",
       "    </tr>\n",
       "    <tr>\n",
       "        <td>2</td>\n",
       "        <td>Niharika</td>\n",
       "        <td>Verma</td>\n",
       "        <td>80000</td>\n",
       "        <td>14-06-11 09.00.00</td>\n",
       "        <td>Admin</td>\n",
       "    </tr>\n",
       "    <tr>\n",
       "        <td>3</td>\n",
       "        <td>Vishal</td>\n",
       "        <td>Singhal</td>\n",
       "        <td>300000</td>\n",
       "        <td>14-02-20 09.00.00</td>\n",
       "        <td>HR</td>\n",
       "    </tr>\n",
       "    <tr>\n",
       "        <td>4</td>\n",
       "        <td>Amitabh</td>\n",
       "        <td>Singh</td>\n",
       "        <td>500000</td>\n",
       "        <td>14-02-20 09.00.00</td>\n",
       "        <td>Admin</td>\n",
       "    </tr>\n",
       "    <tr>\n",
       "        <td>7</td>\n",
       "        <td>Satish</td>\n",
       "        <td>Kumar</td>\n",
       "        <td>75000</td>\n",
       "        <td>14-01-20 09.00.00</td>\n",
       "        <td>Account</td>\n",
       "    </tr>\n",
       "    <tr>\n",
       "        <td>8</td>\n",
       "        <td>Geetika</td>\n",
       "        <td>Chauhan</td>\n",
       "        <td>90000</td>\n",
       "        <td>14-04-11 09.00.00</td>\n",
       "        <td>Admin</td>\n",
       "    </tr>\n",
       "</table>"
      ],
      "text/plain": [
       "[(1, 'Monika', 'Arora', 100000, '14-02-20 09.00.00', 'HR'),\n",
       " (2, 'Niharika', 'Verma', 80000, '14-06-11 09.00.00', 'Admin'),\n",
       " (3, 'Vishal', 'Singhal', 300000, '14-02-20 09.00.00', 'HR'),\n",
       " (4, 'Amitabh', 'Singh', 500000, '14-02-20 09.00.00', 'Admin'),\n",
       " (7, 'Satish', 'Kumar', 75000, '14-01-20 09.00.00', 'Account'),\n",
       " (8, 'Geetika', 'Chauhan', 90000, '14-04-11 09.00.00', 'Admin')]"
      ]
     },
     "execution_count": 95,
     "metadata": {},
     "output_type": "execute_result"
    }
   ],
   "source": [
    "%%sql\n",
    "SELECT * FROM Workers\n",
    "WHERE first_name\n",
    "LIKE '%a%';"
   ]
  },
  {
   "cell_type": "markdown",
   "id": "1adb0742-098c-4f7d-9500-93f63b66c912",
   "metadata": {},
   "source": [
    "### Q-17: Write an SQL query to print details of the Workers whose first_name ends with ‘a’."
   ]
  },
  {
   "cell_type": "code",
   "execution_count": 97,
   "id": "aa3a41b9-6b9b-4cc4-9525-d5f821868305",
   "metadata": {},
   "outputs": [
    {
     "name": "stdout",
     "output_type": "stream",
     "text": [
      " * sqlite:///sql-examples.db\n",
      "Done.\n"
     ]
    },
    {
     "data": {
      "text/html": [
       "<table>\n",
       "    <tr>\n",
       "        <th>worker_id</th>\n",
       "        <th>first_name</th>\n",
       "        <th>last_name</th>\n",
       "        <th>salary</th>\n",
       "        <th>joining_date</th>\n",
       "        <th>department</th>\n",
       "    </tr>\n",
       "    <tr>\n",
       "        <td>1</td>\n",
       "        <td>Monika</td>\n",
       "        <td>Arora</td>\n",
       "        <td>100000</td>\n",
       "        <td>14-02-20 09.00.00</td>\n",
       "        <td>HR</td>\n",
       "    </tr>\n",
       "    <tr>\n",
       "        <td>2</td>\n",
       "        <td>Niharika</td>\n",
       "        <td>Verma</td>\n",
       "        <td>80000</td>\n",
       "        <td>14-06-11 09.00.00</td>\n",
       "        <td>Admin</td>\n",
       "    </tr>\n",
       "    <tr>\n",
       "        <td>8</td>\n",
       "        <td>Geetika</td>\n",
       "        <td>Chauhan</td>\n",
       "        <td>90000</td>\n",
       "        <td>14-04-11 09.00.00</td>\n",
       "        <td>Admin</td>\n",
       "    </tr>\n",
       "</table>"
      ],
      "text/plain": [
       "[(1, 'Monika', 'Arora', 100000, '14-02-20 09.00.00', 'HR'),\n",
       " (2, 'Niharika', 'Verma', 80000, '14-06-11 09.00.00', 'Admin'),\n",
       " (8, 'Geetika', 'Chauhan', 90000, '14-04-11 09.00.00', 'Admin')]"
      ]
     },
     "execution_count": 97,
     "metadata": {},
     "output_type": "execute_result"
    }
   ],
   "source": [
    "%%sql\n",
    "SELECT * FROM Workers\n",
    "WHERE first_name\n",
    "LIKE '%a';"
   ]
  },
  {
   "cell_type": "markdown",
   "id": "36abe6c3-9c99-4205-8983-0018065a13a9",
   "metadata": {},
   "source": [
    "### Q-18: Write an SQL query to print details of the Workers whose first_name ends with ‘h’ and contains six alphabets."
   ]
  },
  {
   "cell_type": "code",
   "execution_count": 98,
   "id": "5aa136ac-1dc3-4171-b2b9-0d8d34881055",
   "metadata": {},
   "outputs": [
    {
     "name": "stdout",
     "output_type": "stream",
     "text": [
      " * sqlite:///sql-examples.db\n",
      "Done.\n"
     ]
    },
    {
     "data": {
      "text/html": [
       "<table>\n",
       "    <tr>\n",
       "        <th>worker_id</th>\n",
       "        <th>first_name</th>\n",
       "        <th>last_name</th>\n",
       "        <th>salary</th>\n",
       "        <th>joining_date</th>\n",
       "        <th>department</th>\n",
       "    </tr>\n",
       "    <tr>\n",
       "        <td>7</td>\n",
       "        <td>Satish</td>\n",
       "        <td>Kumar</td>\n",
       "        <td>75000</td>\n",
       "        <td>14-01-20 09.00.00</td>\n",
       "        <td>Account</td>\n",
       "    </tr>\n",
       "</table>"
      ],
      "text/plain": [
       "[(7, 'Satish', 'Kumar', 75000, '14-01-20 09.00.00', 'Account')]"
      ]
     },
     "execution_count": 98,
     "metadata": {},
     "output_type": "execute_result"
    }
   ],
   "source": [
    "%%sql\n",
    "SELECT * FROM Workers\n",
    "WHERE first_name\n",
    "LIKE '_____h%'"
   ]
  },
  {
   "cell_type": "markdown",
   "id": "036ee088-43a8-4cb7-a8e5-2354e21eb0a2",
   "metadata": {},
   "source": [
    "### Q-19: Write an SQL query to print details of the Workers whose salary lies between 100000 and 500000."
   ]
  },
  {
   "cell_type": "code",
   "execution_count": 99,
   "id": "b32c9c22-2a26-4c54-a4d1-685ad0898561",
   "metadata": {},
   "outputs": [
    {
     "name": "stdout",
     "output_type": "stream",
     "text": [
      " * sqlite:///sql-examples.db\n",
      "Done.\n"
     ]
    },
    {
     "data": {
      "text/html": [
       "<table>\n",
       "    <tr>\n",
       "        <th>worker_id</th>\n",
       "        <th>first_name</th>\n",
       "        <th>last_name</th>\n",
       "        <th>salary</th>\n",
       "        <th>joining_date</th>\n",
       "        <th>department</th>\n",
       "    </tr>\n",
       "    <tr>\n",
       "        <td>1</td>\n",
       "        <td>Monika</td>\n",
       "        <td>Arora</td>\n",
       "        <td>100000</td>\n",
       "        <td>14-02-20 09.00.00</td>\n",
       "        <td>HR</td>\n",
       "    </tr>\n",
       "    <tr>\n",
       "        <td>3</td>\n",
       "        <td>Vishal</td>\n",
       "        <td>Singhal</td>\n",
       "        <td>300000</td>\n",
       "        <td>14-02-20 09.00.00</td>\n",
       "        <td>HR</td>\n",
       "    </tr>\n",
       "    <tr>\n",
       "        <td>4</td>\n",
       "        <td>Amitabh</td>\n",
       "        <td>Singh</td>\n",
       "        <td>500000</td>\n",
       "        <td>14-02-20 09.00.00</td>\n",
       "        <td>Admin</td>\n",
       "    </tr>\n",
       "    <tr>\n",
       "        <td>5</td>\n",
       "        <td>Vivek</td>\n",
       "        <td>Bhati</td>\n",
       "        <td>500000</td>\n",
       "        <td>14-06-11 09.00.00</td>\n",
       "        <td>Admin</td>\n",
       "    </tr>\n",
       "    <tr>\n",
       "        <td>6</td>\n",
       "        <td>Vipul</td>\n",
       "        <td>Diwan</td>\n",
       "        <td>200000</td>\n",
       "        <td>14-06-11 09.00.00</td>\n",
       "        <td>Account</td>\n",
       "    </tr>\n",
       "    <tr>\n",
       "        <td>9</td>\n",
       "        <td>Ersel</td>\n",
       "        <td>Kızmaz</td>\n",
       "        <td>122000</td>\n",
       "        <td>14-05-2022 09.00.00</td>\n",
       "        <td>DataScientist</td>\n",
       "    </tr>\n",
       "</table>"
      ],
      "text/plain": [
       "[(1, 'Monika', 'Arora', 100000, '14-02-20 09.00.00', 'HR'),\n",
       " (3, 'Vishal', 'Singhal', 300000, '14-02-20 09.00.00', 'HR'),\n",
       " (4, 'Amitabh', 'Singh', 500000, '14-02-20 09.00.00', 'Admin'),\n",
       " (5, 'Vivek', 'Bhati', 500000, '14-06-11 09.00.00', 'Admin'),\n",
       " (6, 'Vipul', 'Diwan', 200000, '14-06-11 09.00.00', 'Account'),\n",
       " (9, 'Ersel', 'Kızmaz', 122000, '14-05-2022 09.00.00', 'DataScientist')]"
      ]
     },
     "execution_count": 99,
     "metadata": {},
     "output_type": "execute_result"
    }
   ],
   "source": [
    "%%sql\n",
    "SELECT * FROM Workers\n",
    "WHERE salary\n",
    "BETWEEN 100000 AND 500000;"
   ]
  },
  {
   "cell_type": "markdown",
   "id": "274fa957-e053-47ad-8ab4-fd0b6059e5dc",
   "metadata": {},
   "source": [
    "### Q-20: Write an SQL query to print details of the Workers who have joined in Feb’2014."
   ]
  },
  {
   "cell_type": "code",
   "execution_count": 30,
   "id": "1cab844e-83ae-464e-bdf6-864fc34ffb2f",
   "metadata": {},
   "outputs": [
    {
     "name": "stdout",
     "output_type": "stream",
     "text": [
      " * sqlite:///sql-examples.db\n",
      "Done.\n"
     ]
    },
    {
     "data": {
      "text/html": [
       "<table>\n",
       "    <tr>\n",
       "        <th>worker_id</th>\n",
       "        <th>first_name</th>\n",
       "        <th>last_name</th>\n",
       "        <th>salary</th>\n",
       "        <th>joining_date</th>\n",
       "        <th>department</th>\n",
       "    </tr>\n",
       "    <tr>\n",
       "        <td>1</td>\n",
       "        <td>Monika</td>\n",
       "        <td>Arora</td>\n",
       "        <td>100000</td>\n",
       "        <td>14-02-20 09.00.00</td>\n",
       "        <td>HR</td>\n",
       "    </tr>\n",
       "    <tr>\n",
       "        <td>3</td>\n",
       "        <td>Vishal</td>\n",
       "        <td>Singhal</td>\n",
       "        <td>300000</td>\n",
       "        <td>14-02-20 09.00.00</td>\n",
       "        <td>HR</td>\n",
       "    </tr>\n",
       "    <tr>\n",
       "        <td>4</td>\n",
       "        <td>Amitabh</td>\n",
       "        <td>Singh</td>\n",
       "        <td>500000</td>\n",
       "        <td>14-02-20 09.00.00</td>\n",
       "        <td>Admin</td>\n",
       "    </tr>\n",
       "</table>"
      ],
      "text/plain": [
       "[(1, 'Monika', 'Arora', 100000, '14-02-20 09.00.00', 'HR'),\n",
       " (3, 'Vishal', 'Singhal', 300000, '14-02-20 09.00.00', 'HR'),\n",
       " (4, 'Amitabh', 'Singh', 500000, '14-02-20 09.00.00', 'Admin')]"
      ]
     },
     "execution_count": 30,
     "metadata": {},
     "output_type": "execute_result"
    }
   ],
   "source": [
    "%%sql\n",
    "SELECT * FROM Workers\n",
    "WHERE joining_date \n",
    "LIKE '%14-02%';"
   ]
  },
  {
   "cell_type": "markdown",
   "id": "967c3561-0813-41c8-888a-897ce6d85008",
   "metadata": {},
   "source": [
    "### Q-21: Write an SQL query to fetch the count of employees working in the department ‘Admin’."
   ]
  },
  {
   "cell_type": "code",
   "execution_count": 40,
   "id": "abf46aa6-8c7e-4e48-ad6e-9713c690551a",
   "metadata": {},
   "outputs": [
    {
     "name": "stdout",
     "output_type": "stream",
     "text": [
      " * sqlite:///sql-examples.db\n",
      "Done.\n"
     ]
    },
    {
     "data": {
      "text/html": [
       "<table>\n",
       "    <tr>\n",
       "        <th>SUM(department = &#x27;Admin&#x27;)</th>\n",
       "    </tr>\n",
       "    <tr>\n",
       "        <td>4</td>\n",
       "    </tr>\n",
       "</table>"
      ],
      "text/plain": [
       "[(4,)]"
      ]
     },
     "execution_count": 40,
     "metadata": {},
     "output_type": "execute_result"
    }
   ],
   "source": [
    "%%sql\n",
    "SELECT SUM(department = 'Admin') FROM Workers;"
   ]
  },
  {
   "cell_type": "code",
   "execution_count": 41,
   "id": "ce406f25-cb07-4405-af87-c84204c56a89",
   "metadata": {},
   "outputs": [
    {
     "name": "stdout",
     "output_type": "stream",
     "text": [
      " * sqlite:///sql-examples.db\n",
      "Done.\n"
     ]
    },
    {
     "data": {
      "text/html": [
       "<table>\n",
       "    <tr>\n",
       "        <th>COUNT(*)</th>\n",
       "    </tr>\n",
       "    <tr>\n",
       "        <td>4</td>\n",
       "    </tr>\n",
       "</table>"
      ],
      "text/plain": [
       "[(4,)]"
      ]
     },
     "execution_count": 41,
     "metadata": {},
     "output_type": "execute_result"
    }
   ],
   "source": [
    "%%sql\n",
    "SELECT COUNT(*) FROM Workers\n",
    "WHERE department = 'Admin';"
   ]
  },
  {
   "cell_type": "markdown",
   "id": "4551c367-8020-4342-8d66-163a3a2ef54d",
   "metadata": {},
   "source": [
    "### Q-22: Write an SQL query to fetch worker names with salaries >= 50000 and <= 100000."
   ]
  },
  {
   "cell_type": "code",
   "execution_count": 44,
   "id": "10d303ca-55da-4ec1-8b02-d1403e94bb62",
   "metadata": {},
   "outputs": [
    {
     "name": "stdout",
     "output_type": "stream",
     "text": [
      " * sqlite:///sql-examples.db\n",
      "Done.\n"
     ]
    },
    {
     "data": {
      "text/html": [
       "<table>\n",
       "    <tr>\n",
       "        <th>worker_id</th>\n",
       "        <th>first_name</th>\n",
       "        <th>last_name</th>\n",
       "        <th>salary</th>\n",
       "        <th>joining_date</th>\n",
       "        <th>department</th>\n",
       "    </tr>\n",
       "    <tr>\n",
       "        <td>1</td>\n",
       "        <td>Monika</td>\n",
       "        <td>Arora</td>\n",
       "        <td>100000</td>\n",
       "        <td>14-02-20 09.00.00</td>\n",
       "        <td>HR</td>\n",
       "    </tr>\n",
       "    <tr>\n",
       "        <td>2</td>\n",
       "        <td>Niharika</td>\n",
       "        <td>Verma</td>\n",
       "        <td>80000</td>\n",
       "        <td>14-06-11 09.00.00</td>\n",
       "        <td>Admin</td>\n",
       "    </tr>\n",
       "    <tr>\n",
       "        <td>7</td>\n",
       "        <td>Satish</td>\n",
       "        <td>Kumar</td>\n",
       "        <td>75000</td>\n",
       "        <td>14-01-20 09.00.00</td>\n",
       "        <td>Account</td>\n",
       "    </tr>\n",
       "    <tr>\n",
       "        <td>8</td>\n",
       "        <td>Geetika</td>\n",
       "        <td>Chauhan</td>\n",
       "        <td>90000</td>\n",
       "        <td>14-04-11 09.00.00</td>\n",
       "        <td>Admin</td>\n",
       "    </tr>\n",
       "</table>"
      ],
      "text/plain": [
       "[(1, 'Monika', 'Arora', 100000, '14-02-20 09.00.00', 'HR'),\n",
       " (2, 'Niharika', 'Verma', 80000, '14-06-11 09.00.00', 'Admin'),\n",
       " (7, 'Satish', 'Kumar', 75000, '14-01-20 09.00.00', 'Account'),\n",
       " (8, 'Geetika', 'Chauhan', 90000, '14-04-11 09.00.00', 'Admin')]"
      ]
     },
     "execution_count": 44,
     "metadata": {},
     "output_type": "execute_result"
    }
   ],
   "source": [
    "%%sql\n",
    "SELECT * FROM Workers\n",
    "WHERE Salary BETWEEN 50000 AND 100000"
   ]
  },
  {
   "cell_type": "code",
   "execution_count": 46,
   "id": "9288e606-d621-47d6-bf6f-dc81a85ddb9b",
   "metadata": {},
   "outputs": [
    {
     "name": "stdout",
     "output_type": "stream",
     "text": [
      " * sqlite:///sql-examples.db\n",
      "Done.\n"
     ]
    },
    {
     "data": {
      "text/html": [
       "<table>\n",
       "    <tr>\n",
       "        <th>Worker_Name</th>\n",
       "        <th>salary</th>\n",
       "    </tr>\n",
       "    <tr>\n",
       "        <td>Monika Arora</td>\n",
       "        <td>100000</td>\n",
       "    </tr>\n",
       "    <tr>\n",
       "        <td>Niharika Verma</td>\n",
       "        <td>80000</td>\n",
       "    </tr>\n",
       "    <tr>\n",
       "        <td>Satish Kumar</td>\n",
       "        <td>75000</td>\n",
       "    </tr>\n",
       "    <tr>\n",
       "        <td>Geetika Chauhan</td>\n",
       "        <td>90000</td>\n",
       "    </tr>\n",
       "</table>"
      ],
      "text/plain": [
       "[('Monika Arora', 100000),\n",
       " ('Niharika Verma', 80000),\n",
       " ('Satish Kumar', 75000),\n",
       " ('Geetika Chauhan', 90000)]"
      ]
     },
     "execution_count": 46,
     "metadata": {},
     "output_type": "execute_result"
    }
   ],
   "source": [
    "%%sql\n",
    "SELECT first_name || ' ' || last_name As Worker_Name, salary\n",
    "FROM Workers\n",
    "WHERE worker_id IN \n",
    "(SELECT worker_id FROM Workers\n",
    "WHERE salary BETWEEN 50000 AND 100000);"
   ]
  },
  {
   "cell_type": "markdown",
   "id": "2a7c3480-ee0b-4d2e-87ea-b83e67b42eb2",
   "metadata": {},
   "source": [
    "### Q-23: Write an SQL query to fetch the no. of workers for each department in the descending order."
   ]
  },
  {
   "cell_type": "code",
   "execution_count": 62,
   "id": "24f7d005-e0de-4eed-ab83-6dac08e86f48",
   "metadata": {},
   "outputs": [
    {
     "name": "stdout",
     "output_type": "stream",
     "text": [
      " * sqlite:///sql-examples.db\n",
      "Done.\n"
     ]
    },
    {
     "data": {
      "text/html": [
       "<table>\n",
       "    <tr>\n",
       "        <th>department</th>\n",
       "        <th>counts</th>\n",
       "    </tr>\n",
       "    <tr>\n",
       "        <td>Admin</td>\n",
       "        <td>4</td>\n",
       "    </tr>\n",
       "    <tr>\n",
       "        <td>HR</td>\n",
       "        <td>2</td>\n",
       "    </tr>\n",
       "    <tr>\n",
       "        <td>Account</td>\n",
       "        <td>2</td>\n",
       "    </tr>\n",
       "    <tr>\n",
       "        <td>DataScientist</td>\n",
       "        <td>1</td>\n",
       "    </tr>\n",
       "</table>"
      ],
      "text/plain": [
       "[('Admin', 4), ('HR', 2), ('Account', 2), ('DataScientist', 1)]"
      ]
     },
     "execution_count": 62,
     "metadata": {},
     "output_type": "execute_result"
    }
   ],
   "source": [
    "%%sql\n",
    "SELECT department, COUNT(department) AS counts FROM Workers\n",
    "GROUP BY department\n",
    "ORDER BY counts DESC;"
   ]
  },
  {
   "cell_type": "markdown",
   "id": "63751415-04dd-4362-9bc4-eaf0d30ca815",
   "metadata": {},
   "source": [
    "### Q-24: Write an SQL query to print details of the Workers who are also Managers."
   ]
  },
  {
   "cell_type": "code",
   "execution_count": 68,
   "id": "c2de3383-8157-4a2e-9554-ccc53d1356e2",
   "metadata": {},
   "outputs": [
    {
     "name": "stdout",
     "output_type": "stream",
     "text": [
      " * sqlite:///sql-examples.db\n",
      "Done.\n"
     ]
    },
    {
     "data": {
      "text/html": [
       "<table>\n",
       "    <tr>\n",
       "        <th>first_name</th>\n",
       "        <th>department</th>\n",
       "        <th>worker_title</th>\n",
       "    </tr>\n",
       "    <tr>\n",
       "        <td>Monika</td>\n",
       "        <td>HR</td>\n",
       "        <td>Manager</td>\n",
       "    </tr>\n",
       "    <tr>\n",
       "        <td>Vivek</td>\n",
       "        <td>Admin</td>\n",
       "        <td>Manager</td>\n",
       "    </tr>\n",
       "</table>"
      ],
      "text/plain": [
       "[('Monika', 'HR', 'Manager'), ('Vivek', 'Admin', 'Manager')]"
      ]
     },
     "execution_count": 68,
     "metadata": {},
     "output_type": "execute_result"
    }
   ],
   "source": [
    "%%sql\n",
    "SELECT DISTINCT w.first_name, w.department, t.worker_title \n",
    "FROM Workers w\n",
    "INNER JOIN title T\n",
    "ON worker_id = t.worker_ref_id\n",
    "AND t.worker_title IN ('Manager');"
   ]
  },
  {
   "cell_type": "markdown",
   "id": "fb8eee74-1ee9-408c-b66b-c31ee6bacfe3",
   "metadata": {},
   "source": [
    "### Q-25: Write an SQL query to fetch duplicate records having matching data in some fields of a table."
   ]
  },
  {
   "cell_type": "code",
   "execution_count": 3,
   "id": "a84fb160-271f-4ac0-9c0c-cd3904a5df42",
   "metadata": {},
   "outputs": [
    {
     "name": "stdout",
     "output_type": "stream",
     "text": [
      " * sqlite:///sql-examples.db\n",
      "Done.\n"
     ]
    },
    {
     "data": {
      "text/html": [
       "<table>\n",
       "    <tr>\n",
       "        <th>name</th>\n",
       "    </tr>\n",
       "    <tr>\n",
       "        <td>Workers</td>\n",
       "    </tr>\n",
       "    <tr>\n",
       "        <td>Bonus</td>\n",
       "    </tr>\n",
       "    <tr>\n",
       "        <td>Title</td>\n",
       "    </tr>\n",
       "</table>"
      ],
      "text/plain": [
       "[('Workers',), ('Bonus',), ('Title',)]"
      ]
     },
     "execution_count": 3,
     "metadata": {},
     "output_type": "execute_result"
    }
   ],
   "source": [
    "%%sql\n",
    "SELECT name FROM sqlite_master WHERE type = 'table';"
   ]
  },
  {
   "cell_type": "code",
   "execution_count": 12,
   "id": "a822e734-f4ac-4fc5-9cca-6765fb2f1bbc",
   "metadata": {},
   "outputs": [
    {
     "name": "stdout",
     "output_type": "stream",
     "text": [
      " * sqlite:///sql-examples.db\n",
      "Done.\n"
     ]
    },
    {
     "data": {
      "text/html": [
       "<table>\n",
       "    <tr>\n",
       "        <th>worker_id</th>\n",
       "        <th>first_name</th>\n",
       "        <th>last_name</th>\n",
       "        <th>salary</th>\n",
       "        <th>joining_date</th>\n",
       "        <th>department</th>\n",
       "    </tr>\n",
       "    <tr>\n",
       "        <td>1</td>\n",
       "        <td>Monika</td>\n",
       "        <td>Arora</td>\n",
       "        <td>100000</td>\n",
       "        <td>14-02-20 09.00.00</td>\n",
       "        <td>HR</td>\n",
       "    </tr>\n",
       "    <tr>\n",
       "        <td>2</td>\n",
       "        <td>Niharika</td>\n",
       "        <td>Verma</td>\n",
       "        <td>80000</td>\n",
       "        <td>14-06-11 09.00.00</td>\n",
       "        <td>Admin</td>\n",
       "    </tr>\n",
       "    <tr>\n",
       "        <td>3</td>\n",
       "        <td>Vishal</td>\n",
       "        <td>Singhal</td>\n",
       "        <td>300000</td>\n",
       "        <td>14-02-20 09.00.00</td>\n",
       "        <td>HR</td>\n",
       "    </tr>\n",
       "    <tr>\n",
       "        <td>4</td>\n",
       "        <td>Amitabh</td>\n",
       "        <td>Singh</td>\n",
       "        <td>500000</td>\n",
       "        <td>14-02-20 09.00.00</td>\n",
       "        <td>Admin</td>\n",
       "    </tr>\n",
       "    <tr>\n",
       "        <td>5</td>\n",
       "        <td>Vivek</td>\n",
       "        <td>Bhati</td>\n",
       "        <td>500000</td>\n",
       "        <td>14-06-11 09.00.00</td>\n",
       "        <td>Admin</td>\n",
       "    </tr>\n",
       "    <tr>\n",
       "        <td>6</td>\n",
       "        <td>Vipul</td>\n",
       "        <td>Diwan</td>\n",
       "        <td>200000</td>\n",
       "        <td>14-06-11 09.00.00</td>\n",
       "        <td>Account</td>\n",
       "    </tr>\n",
       "    <tr>\n",
       "        <td>7</td>\n",
       "        <td>Satish</td>\n",
       "        <td>Kumar</td>\n",
       "        <td>75000</td>\n",
       "        <td>14-01-20 09.00.00</td>\n",
       "        <td>Account</td>\n",
       "    </tr>\n",
       "    <tr>\n",
       "        <td>8</td>\n",
       "        <td>Geetika</td>\n",
       "        <td>Chauhan</td>\n",
       "        <td>90000</td>\n",
       "        <td>14-04-11 09.00.00</td>\n",
       "        <td>Admin</td>\n",
       "    </tr>\n",
       "    <tr>\n",
       "        <td>9</td>\n",
       "        <td>Ersel</td>\n",
       "        <td>Kızmaz</td>\n",
       "        <td>122000</td>\n",
       "        <td>14-05-2022 09.00.00</td>\n",
       "        <td>DataScientist</td>\n",
       "    </tr>\n",
       "</table>"
      ],
      "text/plain": [
       "[(1, 'Monika', 'Arora', 100000, '14-02-20 09.00.00', 'HR'),\n",
       " (2, 'Niharika', 'Verma', 80000, '14-06-11 09.00.00', 'Admin'),\n",
       " (3, 'Vishal', 'Singhal', 300000, '14-02-20 09.00.00', 'HR'),\n",
       " (4, 'Amitabh', 'Singh', 500000, '14-02-20 09.00.00', 'Admin'),\n",
       " (5, 'Vivek', 'Bhati', 500000, '14-06-11 09.00.00', 'Admin'),\n",
       " (6, 'Vipul', 'Diwan', 200000, '14-06-11 09.00.00', 'Account'),\n",
       " (7, 'Satish', 'Kumar', 75000, '14-01-20 09.00.00', 'Account'),\n",
       " (8, 'Geetika', 'Chauhan', 90000, '14-04-11 09.00.00', 'Admin'),\n",
       " (9, 'Ersel', 'Kızmaz', 122000, '14-05-2022 09.00.00', 'DataScientist')]"
      ]
     },
     "execution_count": 12,
     "metadata": {},
     "output_type": "execute_result"
    }
   ],
   "source": [
    "%%sql\n",
    "SELECT * FROM Workers;"
   ]
  },
  {
   "cell_type": "code",
   "execution_count": 13,
   "id": "69381871-6744-4155-88d8-72dfe035ceca",
   "metadata": {},
   "outputs": [
    {
     "name": "stdout",
     "output_type": "stream",
     "text": [
      " * sqlite:///sql-examples.db\n",
      "Done.\n"
     ]
    },
    {
     "data": {
      "text/html": [
       "<table>\n",
       "    <tr>\n",
       "        <th>worker_ref_id</th>\n",
       "        <th>bonus_amount</th>\n",
       "        <th>bonus_date</th>\n",
       "    </tr>\n",
       "    <tr>\n",
       "        <td>1</td>\n",
       "        <td>5000</td>\n",
       "        <td>16-02-20</td>\n",
       "    </tr>\n",
       "    <tr>\n",
       "        <td>2</td>\n",
       "        <td>3000</td>\n",
       "        <td>16-06-11</td>\n",
       "    </tr>\n",
       "    <tr>\n",
       "        <td>3</td>\n",
       "        <td>4000</td>\n",
       "        <td>16-02,20</td>\n",
       "    </tr>\n",
       "    <tr>\n",
       "        <td>1</td>\n",
       "        <td>4500</td>\n",
       "        <td>16-02-20</td>\n",
       "    </tr>\n",
       "    <tr>\n",
       "        <td>2</td>\n",
       "        <td>3500</td>\n",
       "        <td>16-06-11</td>\n",
       "    </tr>\n",
       "</table>"
      ],
      "text/plain": [
       "[(1, 5000, '16-02-20'),\n",
       " (2, 3000, '16-06-11'),\n",
       " (3, 4000, '16-02,20'),\n",
       " (1, 4500, '16-02-20'),\n",
       " (2, 3500, '16-06-11')]"
      ]
     },
     "execution_count": 13,
     "metadata": {},
     "output_type": "execute_result"
    }
   ],
   "source": [
    "%%sql\n",
    "SELECT * FROM Bonus;"
   ]
  },
  {
   "cell_type": "code",
   "execution_count": 14,
   "id": "11e24ae0-4b9d-4fe0-87a6-ab56ae93b62c",
   "metadata": {},
   "outputs": [
    {
     "name": "stdout",
     "output_type": "stream",
     "text": [
      " * sqlite:///sql-examples.db\n",
      "Done.\n"
     ]
    },
    {
     "data": {
      "text/html": [
       "<table>\n",
       "    <tr>\n",
       "        <th>worker_ref_id</th>\n",
       "        <th>worker_title</th>\n",
       "        <th>affected_from</th>\n",
       "    </tr>\n",
       "    <tr>\n",
       "        <td>1</td>\n",
       "        <td>Manager</td>\n",
       "        <td>2016-02-20 00:00:00</td>\n",
       "    </tr>\n",
       "    <tr>\n",
       "        <td>2</td>\n",
       "        <td>Executive</td>\n",
       "        <td>2016-06-11 00:00:00</td>\n",
       "    </tr>\n",
       "    <tr>\n",
       "        <td>8</td>\n",
       "        <td>Executive</td>\n",
       "        <td>2016-06-11 00:00:00</td>\n",
       "    </tr>\n",
       "    <tr>\n",
       "        <td>5</td>\n",
       "        <td>Manager</td>\n",
       "        <td>2016-06-11 00:00:00</td>\n",
       "    </tr>\n",
       "    <tr>\n",
       "        <td>4</td>\n",
       "        <td>Asst. Manager</td>\n",
       "        <td>2016-06-11 00:00:00</td>\n",
       "    </tr>\n",
       "    <tr>\n",
       "        <td>7</td>\n",
       "        <td>Executive</td>\n",
       "        <td>2016-06-11 00:00:00</td>\n",
       "    </tr>\n",
       "    <tr>\n",
       "        <td>6</td>\n",
       "        <td>Lead</td>\n",
       "        <td>2016-06-11 00:00:00</td>\n",
       "    </tr>\n",
       "    <tr>\n",
       "        <td>3</td>\n",
       "        <td>Lead</td>\n",
       "        <td>2016-06-11 00:00:00</td>\n",
       "    </tr>\n",
       "    <tr>\n",
       "        <td>9</td>\n",
       "        <td>Senior</td>\n",
       "        <td>2016-05-22 00:00:00</td>\n",
       "    </tr>\n",
       "</table>"
      ],
      "text/plain": [
       "[(1, 'Manager', '2016-02-20 00:00:00'),\n",
       " (2, 'Executive', '2016-06-11 00:00:00'),\n",
       " (8, 'Executive', '2016-06-11 00:00:00'),\n",
       " (5, 'Manager', '2016-06-11 00:00:00'),\n",
       " (4, 'Asst. Manager', '2016-06-11 00:00:00'),\n",
       " (7, 'Executive', '2016-06-11 00:00:00'),\n",
       " (6, 'Lead', '2016-06-11 00:00:00'),\n",
       " (3, 'Lead', '2016-06-11 00:00:00'),\n",
       " (9, 'Senior', '2016-05-22 00:00:00')]"
      ]
     },
     "execution_count": 14,
     "metadata": {},
     "output_type": "execute_result"
    }
   ],
   "source": [
    "%%sql\n",
    "SELECT * FROM Title;"
   ]
  },
  {
   "cell_type": "markdown",
   "id": "ff0b2927-8bf7-480e-8d7e-41345944ca1a",
   "metadata": {},
   "source": [
    "* ortak olan sütun: 'worker_id'"
   ]
  },
  {
   "cell_type": "code",
   "execution_count": 11,
   "id": "81eb50ad-a01b-4aff-a77d-d3323acfb3ce",
   "metadata": {},
   "outputs": [
    {
     "name": "stdout",
     "output_type": "stream",
     "text": [
      " * sqlite:///sql-examples.db\n",
      "Done.\n"
     ]
    },
    {
     "data": {
      "text/html": [
       "<table>\n",
       "    <tr>\n",
       "        <th>worker_id</th>\n",
       "        <th>first_name</th>\n",
       "        <th>bonus_amount</th>\n",
       "    </tr>\n",
       "    <tr>\n",
       "        <td>1</td>\n",
       "        <td>Monika</td>\n",
       "        <td>4500</td>\n",
       "    </tr>\n",
       "    <tr>\n",
       "        <td>1</td>\n",
       "        <td>Monika</td>\n",
       "        <td>5000</td>\n",
       "    </tr>\n",
       "    <tr>\n",
       "        <td>2</td>\n",
       "        <td>Niharika</td>\n",
       "        <td>3000</td>\n",
       "    </tr>\n",
       "    <tr>\n",
       "        <td>2</td>\n",
       "        <td>Niharika</td>\n",
       "        <td>3500</td>\n",
       "    </tr>\n",
       "    <tr>\n",
       "        <td>3</td>\n",
       "        <td>Vishal</td>\n",
       "        <td>4000</td>\n",
       "    </tr>\n",
       "</table>"
      ],
      "text/plain": [
       "[(1, 'Monika', 4500),\n",
       " (1, 'Monika', 5000),\n",
       " (2, 'Niharika', 3000),\n",
       " (2, 'Niharika', 3500),\n",
       " (3, 'Vishal', 4000)]"
      ]
     },
     "execution_count": 11,
     "metadata": {},
     "output_type": "execute_result"
    }
   ],
   "source": [
    "%%sql\n",
    "SELECT w.worker_id, w.first_name, b.bonus_amount\n",
    "FROM Workers AS w\n",
    "INNER JOIN Bonus AS b ON w.worker_id = b.worker_ref_id;"
   ]
  },
  {
   "cell_type": "code",
   "execution_count": 8,
   "id": "54cf2636-c35e-4b59-a103-9992815858ae",
   "metadata": {},
   "outputs": [
    {
     "name": "stdout",
     "output_type": "stream",
     "text": [
      " * sqlite:///sql-examples.db\n",
      "Done.\n"
     ]
    },
    {
     "data": {
      "text/html": [
       "<table>\n",
       "    <tr>\n",
       "        <th>worker_title</th>\n",
       "        <th>affected_from</th>\n",
       "        <th>COUNT(*)</th>\n",
       "    </tr>\n",
       "    <tr>\n",
       "        <td>Executive</td>\n",
       "        <td>2016-06-11 00:00:00</td>\n",
       "        <td>3</td>\n",
       "    </tr>\n",
       "    <tr>\n",
       "        <td>Lead</td>\n",
       "        <td>2016-06-11 00:00:00</td>\n",
       "        <td>2</td>\n",
       "    </tr>\n",
       "</table>"
      ],
      "text/plain": [
       "[('Executive', '2016-06-11 00:00:00', 3), ('Lead', '2016-06-11 00:00:00', 2)]"
      ]
     },
     "execution_count": 8,
     "metadata": {},
     "output_type": "execute_result"
    }
   ],
   "source": [
    "%%sql\n",
    "SELECT worker_title, affected_from, COUNT(*)\n",
    "FROM Title\n",
    "GROUP BY worker_title, affected_from\n",
    "HAVING COUNT(*) > 1;"
   ]
  },
  {
   "cell_type": "markdown",
   "id": "98ee46ae-58c2-4661-9509-19f1a049445b",
   "metadata": {},
   "source": [
    "### Q-26: Write an SQL query to show only odd rows from a table."
   ]
  },
  {
   "cell_type": "code",
   "execution_count": 14,
   "id": "dfd3169b-9a4a-4830-9314-4494c59b32a7",
   "metadata": {},
   "outputs": [
    {
     "name": "stdout",
     "output_type": "stream",
     "text": [
      " * sqlite:///sql-examples.db\n",
      "Done.\n"
     ]
    },
    {
     "data": {
      "text/html": [
       "<table>\n",
       "    <tr>\n",
       "        <th>worker_id</th>\n",
       "        <th>first_name</th>\n",
       "        <th>last_name</th>\n",
       "        <th>salary</th>\n",
       "        <th>joining_date</th>\n",
       "        <th>department</th>\n",
       "    </tr>\n",
       "    <tr>\n",
       "        <td>1</td>\n",
       "        <td>Monika</td>\n",
       "        <td>Arora</td>\n",
       "        <td>100000</td>\n",
       "        <td>14-02-20 09.00.00</td>\n",
       "        <td>HR</td>\n",
       "    </tr>\n",
       "    <tr>\n",
       "        <td>3</td>\n",
       "        <td>Vishal</td>\n",
       "        <td>Singhal</td>\n",
       "        <td>300000</td>\n",
       "        <td>14-02-20 09.00.00</td>\n",
       "        <td>HR</td>\n",
       "    </tr>\n",
       "    <tr>\n",
       "        <td>5</td>\n",
       "        <td>Vivek</td>\n",
       "        <td>Bhati</td>\n",
       "        <td>500000</td>\n",
       "        <td>14-06-11 09.00.00</td>\n",
       "        <td>Admin</td>\n",
       "    </tr>\n",
       "    <tr>\n",
       "        <td>7</td>\n",
       "        <td>Satish</td>\n",
       "        <td>Kumar</td>\n",
       "        <td>75000</td>\n",
       "        <td>14-01-20 09.00.00</td>\n",
       "        <td>Account</td>\n",
       "    </tr>\n",
       "    <tr>\n",
       "        <td>9</td>\n",
       "        <td>Ersel</td>\n",
       "        <td>Kızmaz</td>\n",
       "        <td>122000</td>\n",
       "        <td>14-05-2022 09.00.00</td>\n",
       "        <td>DataScientist</td>\n",
       "    </tr>\n",
       "</table>"
      ],
      "text/plain": [
       "[(1, 'Monika', 'Arora', 100000, '14-02-20 09.00.00', 'HR'),\n",
       " (3, 'Vishal', 'Singhal', 300000, '14-02-20 09.00.00', 'HR'),\n",
       " (5, 'Vivek', 'Bhati', 500000, '14-06-11 09.00.00', 'Admin'),\n",
       " (7, 'Satish', 'Kumar', 75000, '14-01-20 09.00.00', 'Account'),\n",
       " (9, 'Ersel', 'Kızmaz', 122000, '14-05-2022 09.00.00', 'DataScientist')]"
      ]
     },
     "execution_count": 14,
     "metadata": {},
     "output_type": "execute_result"
    }
   ],
   "source": [
    "%%sql\n",
    "SELECT * FROM Workers\n",
    "WHERE worker_id % 2 = 1;"
   ]
  },
  {
   "cell_type": "markdown",
   "id": "e57eed8a-5001-493e-85fc-9f4375f3b7bc",
   "metadata": {},
   "source": [
    "### Q-27: Write an SQL query to show only even rows from a table."
   ]
  },
  {
   "cell_type": "code",
   "execution_count": 15,
   "id": "46ac62a3-93ae-4808-9a15-b7e43bc31469",
   "metadata": {},
   "outputs": [
    {
     "name": "stdout",
     "output_type": "stream",
     "text": [
      " * sqlite:///sql-examples.db\n",
      "Done.\n"
     ]
    },
    {
     "data": {
      "text/html": [
       "<table>\n",
       "    <tr>\n",
       "        <th>worker_id</th>\n",
       "        <th>first_name</th>\n",
       "        <th>last_name</th>\n",
       "        <th>salary</th>\n",
       "        <th>joining_date</th>\n",
       "        <th>department</th>\n",
       "    </tr>\n",
       "    <tr>\n",
       "        <td>2</td>\n",
       "        <td>Niharika</td>\n",
       "        <td>Verma</td>\n",
       "        <td>80000</td>\n",
       "        <td>14-06-11 09.00.00</td>\n",
       "        <td>Admin</td>\n",
       "    </tr>\n",
       "    <tr>\n",
       "        <td>4</td>\n",
       "        <td>Amitabh</td>\n",
       "        <td>Singh</td>\n",
       "        <td>500000</td>\n",
       "        <td>14-02-20 09.00.00</td>\n",
       "        <td>Admin</td>\n",
       "    </tr>\n",
       "    <tr>\n",
       "        <td>6</td>\n",
       "        <td>Vipul</td>\n",
       "        <td>Diwan</td>\n",
       "        <td>200000</td>\n",
       "        <td>14-06-11 09.00.00</td>\n",
       "        <td>Account</td>\n",
       "    </tr>\n",
       "    <tr>\n",
       "        <td>8</td>\n",
       "        <td>Geetika</td>\n",
       "        <td>Chauhan</td>\n",
       "        <td>90000</td>\n",
       "        <td>14-04-11 09.00.00</td>\n",
       "        <td>Admin</td>\n",
       "    </tr>\n",
       "</table>"
      ],
      "text/plain": [
       "[(2, 'Niharika', 'Verma', 80000, '14-06-11 09.00.00', 'Admin'),\n",
       " (4, 'Amitabh', 'Singh', 500000, '14-02-20 09.00.00', 'Admin'),\n",
       " (6, 'Vipul', 'Diwan', 200000, '14-06-11 09.00.00', 'Account'),\n",
       " (8, 'Geetika', 'Chauhan', 90000, '14-04-11 09.00.00', 'Admin')]"
      ]
     },
     "execution_count": 15,
     "metadata": {},
     "output_type": "execute_result"
    }
   ],
   "source": [
    "%%sql\n",
    "SELECT * FROM Workers\n",
    "WHERE worker_id % 2 = 0;"
   ]
  },
  {
   "cell_type": "markdown",
   "id": "ca9ef069-fd18-4657-b83c-3943f775cd7f",
   "metadata": {},
   "source": [
    "### Q-28: Write an SQL query to clone a new table from another table."
   ]
  },
  {
   "cell_type": "code",
   "execution_count": 32,
   "id": "243172af-cc66-499a-b1e8-712439b7f101",
   "metadata": {},
   "outputs": [
    {
     "name": "stdout",
     "output_type": "stream",
     "text": [
      " * sqlite:///sql-examples.db\n",
      "Done.\n"
     ]
    },
    {
     "data": {
      "text/plain": [
       "[]"
      ]
     },
     "execution_count": 32,
     "metadata": {},
     "output_type": "execute_result"
    }
   ],
   "source": [
    "%%sql\n",
    "CREATE TABLE WorkersClone AS SELECT * FROM Workers;"
   ]
  },
  {
   "cell_type": "code",
   "execution_count": 33,
   "id": "eb7a7dbc-4a91-48ee-b8b6-0f369026e98f",
   "metadata": {},
   "outputs": [
    {
     "name": "stdout",
     "output_type": "stream",
     "text": [
      " * sqlite:///sql-examples.db\n",
      "Done.\n"
     ]
    },
    {
     "data": {
      "text/html": [
       "<table>\n",
       "    <tr>\n",
       "        <th>worker_id</th>\n",
       "        <th>first_name</th>\n",
       "        <th>last_name</th>\n",
       "        <th>salary</th>\n",
       "        <th>joining_date</th>\n",
       "        <th>department</th>\n",
       "    </tr>\n",
       "    <tr>\n",
       "        <td>1</td>\n",
       "        <td>Monika</td>\n",
       "        <td>Arora</td>\n",
       "        <td>100000</td>\n",
       "        <td>14-02-20 09.00.00</td>\n",
       "        <td>HR</td>\n",
       "    </tr>\n",
       "    <tr>\n",
       "        <td>2</td>\n",
       "        <td>Niharika</td>\n",
       "        <td>Verma</td>\n",
       "        <td>80000</td>\n",
       "        <td>14-06-11 09.00.00</td>\n",
       "        <td>Admin</td>\n",
       "    </tr>\n",
       "    <tr>\n",
       "        <td>3</td>\n",
       "        <td>Vishal</td>\n",
       "        <td>Singhal</td>\n",
       "        <td>300000</td>\n",
       "        <td>14-02-20 09.00.00</td>\n",
       "        <td>HR</td>\n",
       "    </tr>\n",
       "    <tr>\n",
       "        <td>4</td>\n",
       "        <td>Amitabh</td>\n",
       "        <td>Singh</td>\n",
       "        <td>500000</td>\n",
       "        <td>14-02-20 09.00.00</td>\n",
       "        <td>Admin</td>\n",
       "    </tr>\n",
       "    <tr>\n",
       "        <td>5</td>\n",
       "        <td>Vivek</td>\n",
       "        <td>Bhati</td>\n",
       "        <td>500000</td>\n",
       "        <td>14-06-11 09.00.00</td>\n",
       "        <td>Admin</td>\n",
       "    </tr>\n",
       "</table>"
      ],
      "text/plain": [
       "[(1, 'Monika', 'Arora', 100000, '14-02-20 09.00.00', 'HR'),\n",
       " (2, 'Niharika', 'Verma', 80000, '14-06-11 09.00.00', 'Admin'),\n",
       " (3, 'Vishal', 'Singhal', 300000, '14-02-20 09.00.00', 'HR'),\n",
       " (4, 'Amitabh', 'Singh', 500000, '14-02-20 09.00.00', 'Admin'),\n",
       " (5, 'Vivek', 'Bhati', 500000, '14-06-11 09.00.00', 'Admin')]"
      ]
     },
     "execution_count": 33,
     "metadata": {},
     "output_type": "execute_result"
    }
   ],
   "source": [
    "%%sql\n",
    "SELECT * FROM WorkersClone LIMIT 5;"
   ]
  },
  {
   "cell_type": "markdown",
   "id": "33801cc0-e30a-476e-817c-2ae15652276b",
   "metadata": {},
   "source": [
    "### Q-29: Write an SQL query to fetch intersecting records of two tables."
   ]
  },
  {
   "cell_type": "code",
   "execution_count": 43,
   "id": "b8fa2478-27b8-41ec-bfa5-e4073896887b",
   "metadata": {},
   "outputs": [
    {
     "name": "stdout",
     "output_type": "stream",
     "text": [
      " * sqlite:///sql-examples.db\n",
      "Done.\n"
     ]
    },
    {
     "data": {
      "text/html": [
       "<table>\n",
       "    <tr>\n",
       "        <th>worker_id</th>\n",
       "        <th>first_name</th>\n",
       "        <th>last_name</th>\n",
       "        <th>salary</th>\n",
       "        <th>joining_date</th>\n",
       "        <th>department</th>\n",
       "    </tr>\n",
       "    <tr>\n",
       "        <td>1</td>\n",
       "        <td>Monika</td>\n",
       "        <td>Arora</td>\n",
       "        <td>100000</td>\n",
       "        <td>14-02-20 09.00.00</td>\n",
       "        <td>HR</td>\n",
       "    </tr>\n",
       "    <tr>\n",
       "        <td>2</td>\n",
       "        <td>Niharika</td>\n",
       "        <td>Verma</td>\n",
       "        <td>80000</td>\n",
       "        <td>14-06-11 09.00.00</td>\n",
       "        <td>Admin</td>\n",
       "    </tr>\n",
       "    <tr>\n",
       "        <td>3</td>\n",
       "        <td>Vishal</td>\n",
       "        <td>Singhal</td>\n",
       "        <td>300000</td>\n",
       "        <td>14-02-20 09.00.00</td>\n",
       "        <td>HR</td>\n",
       "    </tr>\n",
       "    <tr>\n",
       "        <td>4</td>\n",
       "        <td>Amitabh</td>\n",
       "        <td>Singh</td>\n",
       "        <td>500000</td>\n",
       "        <td>14-02-20 09.00.00</td>\n",
       "        <td>Admin</td>\n",
       "    </tr>\n",
       "    <tr>\n",
       "        <td>5</td>\n",
       "        <td>Vivek</td>\n",
       "        <td>Bhati</td>\n",
       "        <td>500000</td>\n",
       "        <td>14-06-11 09.00.00</td>\n",
       "        <td>Admin</td>\n",
       "    </tr>\n",
       "</table>"
      ],
      "text/plain": [
       "[(1, 'Monika', 'Arora', 100000, '14-02-20 09.00.00', 'HR'),\n",
       " (2, 'Niharika', 'Verma', 80000, '14-06-11 09.00.00', 'Admin'),\n",
       " (3, 'Vishal', 'Singhal', 300000, '14-02-20 09.00.00', 'HR'),\n",
       " (4, 'Amitabh', 'Singh', 500000, '14-02-20 09.00.00', 'Admin'),\n",
       " (5, 'Vivek', 'Bhati', 500000, '14-06-11 09.00.00', 'Admin')]"
      ]
     },
     "execution_count": 43,
     "metadata": {},
     "output_type": "execute_result"
    }
   ],
   "source": [
    "%%sql\n",
    "SELECT * FROM Workers\n",
    "INTERSECT \n",
    "SELECT * FROM WorkersClone LIMIT 5;"
   ]
  },
  {
   "cell_type": "markdown",
   "id": "f491d735-5d55-4357-8492-52a3849d9696",
   "metadata": {},
   "source": [
    "### Q-30: Write an SQL query to show records from one table that another table does not have."
   ]
  },
  {
   "cell_type": "code",
   "execution_count": 51,
   "id": "c052993e-3b61-46af-943a-dc6a22c45d89",
   "metadata": {},
   "outputs": [
    {
     "name": "stdout",
     "output_type": "stream",
     "text": [
      " * sqlite:///sql-examples.db\n",
      "Done.\n"
     ]
    },
    {
     "data": {
      "text/html": [
       "<table>\n",
       "    <tr>\n",
       "        <th>worker_ref_id</th>\n",
       "        <th>worker_title</th>\n",
       "        <th>affected_from</th>\n",
       "    </tr>\n",
       "    <tr>\n",
       "        <td>1</td>\n",
       "        <td>Manager</td>\n",
       "        <td>2016-02-20 00:00:00</td>\n",
       "    </tr>\n",
       "    <tr>\n",
       "        <td>2</td>\n",
       "        <td>Executive</td>\n",
       "        <td>2016-06-11 00:00:00</td>\n",
       "    </tr>\n",
       "    <tr>\n",
       "        <td>3</td>\n",
       "        <td>Lead</td>\n",
       "        <td>2016-06-11 00:00:00</td>\n",
       "    </tr>\n",
       "    <tr>\n",
       "        <td>4</td>\n",
       "        <td>Asst. Manager</td>\n",
       "        <td>2016-06-11 00:00:00</td>\n",
       "    </tr>\n",
       "    <tr>\n",
       "        <td>5</td>\n",
       "        <td>Manager</td>\n",
       "        <td>2016-06-11 00:00:00</td>\n",
       "    </tr>\n",
       "</table>"
      ],
      "text/plain": [
       "[(1, 'Manager', '2016-02-20 00:00:00'),\n",
       " (2, 'Executive', '2016-06-11 00:00:00'),\n",
       " (3, 'Lead', '2016-06-11 00:00:00'),\n",
       " (4, 'Asst. Manager', '2016-06-11 00:00:00'),\n",
       " (5, 'Manager', '2016-06-11 00:00:00')]"
      ]
     },
     "execution_count": 51,
     "metadata": {},
     "output_type": "execute_result"
    }
   ],
   "source": [
    "%%sql\n",
    "SELECT * FROM Title\n",
    "EXCEPT\n",
    "SELECT * FROM Bonus LIMIT 5;"
   ]
  },
  {
   "cell_type": "markdown",
   "id": "fa16ef2f-58a3-482d-8696-f9aff041b7ff",
   "metadata": {},
   "source": [
    "### Q-31: Write an SQL query to show the current date and time."
   ]
  },
  {
   "cell_type": "code",
   "execution_count": 53,
   "id": "35fd4352-bd59-4b8e-a65a-577ea897a76f",
   "metadata": {},
   "outputs": [
    {
     "name": "stdout",
     "output_type": "stream",
     "text": [
      " * sqlite:///sql-examples.db\n",
      "Done.\n"
     ]
    },
    {
     "data": {
      "text/html": [
       "<table>\n",
       "    <tr>\n",
       "        <th>DATE()</th>\n",
       "    </tr>\n",
       "    <tr>\n",
       "        <td>2022-07-25</td>\n",
       "    </tr>\n",
       "</table>"
      ],
      "text/plain": [
       "[('2022-07-25',)]"
      ]
     },
     "execution_count": 53,
     "metadata": {},
     "output_type": "execute_result"
    }
   ],
   "source": [
    "%%sql\n",
    "SELECT DATE();"
   ]
  },
  {
   "cell_type": "markdown",
   "id": "e5f3cc12-587e-4a25-8bf1-53d7ae4a8e6b",
   "metadata": {},
   "source": [
    "for more: https://www.sqlite.org/lang_datefunc.html"
   ]
  },
  {
   "cell_type": "markdown",
   "id": "078cd074-f895-4587-98e4-98dde50da347",
   "metadata": {},
   "source": [
    "### Q-32: Write an SQL query to show the top n (say 10) records of a table."
   ]
  },
  {
   "cell_type": "code",
   "execution_count": 57,
   "id": "23e9fe4b-7559-4588-a03e-1693beceb55a",
   "metadata": {},
   "outputs": [
    {
     "name": "stdout",
     "output_type": "stream",
     "text": [
      " * sqlite:///sql-examples.db\n",
      "Done.\n"
     ]
    },
    {
     "data": {
      "text/html": [
       "<table>\n",
       "    <tr>\n",
       "        <th>worker_id</th>\n",
       "        <th>first_name</th>\n",
       "        <th>last_name</th>\n",
       "        <th>salary</th>\n",
       "        <th>joining_date</th>\n",
       "        <th>department</th>\n",
       "    </tr>\n",
       "    <tr>\n",
       "        <td>1</td>\n",
       "        <td>Monika</td>\n",
       "        <td>Arora</td>\n",
       "        <td>100000</td>\n",
       "        <td>14-02-20 09.00.00</td>\n",
       "        <td>HR</td>\n",
       "    </tr>\n",
       "    <tr>\n",
       "        <td>2</td>\n",
       "        <td>Niharika</td>\n",
       "        <td>Verma</td>\n",
       "        <td>80000</td>\n",
       "        <td>14-06-11 09.00.00</td>\n",
       "        <td>Admin</td>\n",
       "    </tr>\n",
       "    <tr>\n",
       "        <td>3</td>\n",
       "        <td>Vishal</td>\n",
       "        <td>Singhal</td>\n",
       "        <td>300000</td>\n",
       "        <td>14-02-20 09.00.00</td>\n",
       "        <td>HR</td>\n",
       "    </tr>\n",
       "    <tr>\n",
       "        <td>4</td>\n",
       "        <td>Amitabh</td>\n",
       "        <td>Singh</td>\n",
       "        <td>500000</td>\n",
       "        <td>14-02-20 09.00.00</td>\n",
       "        <td>Admin</td>\n",
       "    </tr>\n",
       "    <tr>\n",
       "        <td>5</td>\n",
       "        <td>Vivek</td>\n",
       "        <td>Bhati</td>\n",
       "        <td>500000</td>\n",
       "        <td>14-06-11 09.00.00</td>\n",
       "        <td>Admin</td>\n",
       "    </tr>\n",
       "    <tr>\n",
       "        <td>6</td>\n",
       "        <td>Vipul</td>\n",
       "        <td>Diwan</td>\n",
       "        <td>200000</td>\n",
       "        <td>14-06-11 09.00.00</td>\n",
       "        <td>Account</td>\n",
       "    </tr>\n",
       "    <tr>\n",
       "        <td>7</td>\n",
       "        <td>Satish</td>\n",
       "        <td>Kumar</td>\n",
       "        <td>75000</td>\n",
       "        <td>14-01-20 09.00.00</td>\n",
       "        <td>Account</td>\n",
       "    </tr>\n",
       "    <tr>\n",
       "        <td>8</td>\n",
       "        <td>Geetika</td>\n",
       "        <td>Chauhan</td>\n",
       "        <td>90000</td>\n",
       "        <td>14-04-11 09.00.00</td>\n",
       "        <td>Admin</td>\n",
       "    </tr>\n",
       "    <tr>\n",
       "        <td>9</td>\n",
       "        <td>Ersel</td>\n",
       "        <td>Kızmaz</td>\n",
       "        <td>122000</td>\n",
       "        <td>14-05-2022 09.00.00</td>\n",
       "        <td>DataScientist</td>\n",
       "    </tr>\n",
       "</table>"
      ],
      "text/plain": [
       "[(1, 'Monika', 'Arora', 100000, '14-02-20 09.00.00', 'HR'),\n",
       " (2, 'Niharika', 'Verma', 80000, '14-06-11 09.00.00', 'Admin'),\n",
       " (3, 'Vishal', 'Singhal', 300000, '14-02-20 09.00.00', 'HR'),\n",
       " (4, 'Amitabh', 'Singh', 500000, '14-02-20 09.00.00', 'Admin'),\n",
       " (5, 'Vivek', 'Bhati', 500000, '14-06-11 09.00.00', 'Admin'),\n",
       " (6, 'Vipul', 'Diwan', 200000, '14-06-11 09.00.00', 'Account'),\n",
       " (7, 'Satish', 'Kumar', 75000, '14-01-20 09.00.00', 'Account'),\n",
       " (8, 'Geetika', 'Chauhan', 90000, '14-04-11 09.00.00', 'Admin'),\n",
       " (9, 'Ersel', 'Kızmaz', 122000, '14-05-2022 09.00.00', 'DataScientist')]"
      ]
     },
     "execution_count": 57,
     "metadata": {},
     "output_type": "execute_result"
    }
   ],
   "source": [
    "%%sql\n",
    "SELECT * FROM Workers LIMIT 10;"
   ]
  },
  {
   "cell_type": "markdown",
   "id": "5f92c7d2-c14d-4095-a13e-17bcba27d18e",
   "metadata": {},
   "source": [
    "### Q-33: Write an SQL query to determine the nth (say n=5) highest salary from a table."
   ]
  },
  {
   "cell_type": "code",
   "execution_count": 60,
   "id": "0fbc9170-b70a-4f8a-b8a1-41ca7c49ab4e",
   "metadata": {},
   "outputs": [
    {
     "name": "stdout",
     "output_type": "stream",
     "text": [
      " * sqlite:///sql-examples.db\n",
      "Done.\n"
     ]
    },
    {
     "data": {
      "text/html": [
       "<table>\n",
       "    <tr>\n",
       "        <th>worker_id</th>\n",
       "        <th>first_name</th>\n",
       "        <th>last_name</th>\n",
       "        <th>salary</th>\n",
       "        <th>joining_date</th>\n",
       "        <th>department</th>\n",
       "    </tr>\n",
       "    <tr>\n",
       "        <td>4</td>\n",
       "        <td>Amitabh</td>\n",
       "        <td>Singh</td>\n",
       "        <td>500000</td>\n",
       "        <td>14-02-20 09.00.00</td>\n",
       "        <td>Admin</td>\n",
       "    </tr>\n",
       "    <tr>\n",
       "        <td>5</td>\n",
       "        <td>Vivek</td>\n",
       "        <td>Bhati</td>\n",
       "        <td>500000</td>\n",
       "        <td>14-06-11 09.00.00</td>\n",
       "        <td>Admin</td>\n",
       "    </tr>\n",
       "    <tr>\n",
       "        <td>3</td>\n",
       "        <td>Vishal</td>\n",
       "        <td>Singhal</td>\n",
       "        <td>300000</td>\n",
       "        <td>14-02-20 09.00.00</td>\n",
       "        <td>HR</td>\n",
       "    </tr>\n",
       "    <tr>\n",
       "        <td>6</td>\n",
       "        <td>Vipul</td>\n",
       "        <td>Diwan</td>\n",
       "        <td>200000</td>\n",
       "        <td>14-06-11 09.00.00</td>\n",
       "        <td>Account</td>\n",
       "    </tr>\n",
       "    <tr>\n",
       "        <td>9</td>\n",
       "        <td>Ersel</td>\n",
       "        <td>Kızmaz</td>\n",
       "        <td>122000</td>\n",
       "        <td>14-05-2022 09.00.00</td>\n",
       "        <td>DataScientist</td>\n",
       "    </tr>\n",
       "</table>"
      ],
      "text/plain": [
       "[(4, 'Amitabh', 'Singh', 500000, '14-02-20 09.00.00', 'Admin'),\n",
       " (5, 'Vivek', 'Bhati', 500000, '14-06-11 09.00.00', 'Admin'),\n",
       " (3, 'Vishal', 'Singhal', 300000, '14-02-20 09.00.00', 'HR'),\n",
       " (6, 'Vipul', 'Diwan', 200000, '14-06-11 09.00.00', 'Account'),\n",
       " (9, 'Ersel', 'Kızmaz', 122000, '14-05-2022 09.00.00', 'DataScientist')]"
      ]
     },
     "execution_count": 60,
     "metadata": {},
     "output_type": "execute_result"
    }
   ],
   "source": [
    "%%sql\n",
    "SELECT * FROM Workers ORDER BY salary DESC LIMIT 5;"
   ]
  },
  {
   "cell_type": "markdown",
   "id": "af32a459-0152-466f-85d8-12403c77d3eb",
   "metadata": {},
   "source": [
    "### Q-34: Write an SQL query to determine the 5th highest salary without using TOP or limit method."
   ]
  },
  {
   "cell_type": "code",
   "execution_count": 74,
   "id": "2f2dadcd-946a-4de0-9338-2af7057ced4c",
   "metadata": {},
   "outputs": [
    {
     "name": "stdout",
     "output_type": "stream",
     "text": [
      " * sqlite:///sql-examples.db\n",
      "Done.\n"
     ]
    },
    {
     "data": {
      "text/html": [
       "<table>\n",
       "    <tr>\n",
       "        <th>full_name</th>\n",
       "        <th>salary</th>\n",
       "    </tr>\n",
       "    <tr>\n",
       "        <td>Ersel Kızmaz</td>\n",
       "        <td>122000</td>\n",
       "    </tr>\n",
       "</table>"
      ],
      "text/plain": [
       "[('Ersel Kızmaz', 122000)]"
      ]
     },
     "execution_count": 74,
     "metadata": {},
     "output_type": "execute_result"
    }
   ],
   "source": [
    "%%sql\n",
    "SELECT first_name || ' ' || last_name AS full_name, salary FROM Workers\n",
    "WHERE salary = (SELECT salary FROM (SELECT salary FROM Workers ORDER BY salary DESC LIMIT 5) ORDER BY salary ASC LIMIT 1);"
   ]
  },
  {
   "cell_type": "code",
   "execution_count": 76,
   "id": "6b2cf3e3-ffcb-460c-bf0b-ecaca49018d2",
   "metadata": {},
   "outputs": [],
   "source": [
    "# without limit,"
   ]
  },
  {
   "cell_type": "code",
   "execution_count": 80,
   "id": "0b0282df-a22f-436e-8cb5-a87c30a8f1d4",
   "metadata": {},
   "outputs": [
    {
     "name": "stdout",
     "output_type": "stream",
     "text": [
      " * sqlite:///sql-examples.db\n",
      "Done.\n"
     ]
    },
    {
     "data": {
      "text/html": [
       "<table>\n",
       "    <tr>\n",
       "        <th>COUNT( DISTINCT ( W2.salary ) )</th>\n",
       "    </tr>\n",
       "    <tr>\n",
       "        <td>8</td>\n",
       "    </tr>\n",
       "</table>"
      ],
      "text/plain": [
       "[(8,)]"
      ]
     },
     "execution_count": 80,
     "metadata": {},
     "output_type": "execute_result"
    }
   ],
   "source": [
    "%%sql\n",
    "SELECT COUNT( DISTINCT ( W2.salary ) )\n",
    " FROM Workers W2"
   ]
  },
  {
   "cell_type": "code",
   "execution_count": 84,
   "id": "7f7fdf45-92b9-4604-84c4-e55a3797a986",
   "metadata": {},
   "outputs": [
    {
     "name": "stdout",
     "output_type": "stream",
     "text": [
      " * sqlite:///sql-examples.db\n",
      "Done.\n"
     ]
    },
    {
     "data": {
      "text/html": [
       "<table>\n",
       "    <tr>\n",
       "        <th>first_name</th>\n",
       "        <th>salary</th>\n",
       "    </tr>\n",
       "    <tr>\n",
       "        <td>Ersel</td>\n",
       "        <td>122000</td>\n",
       "    </tr>\n",
       "</table>"
      ],
      "text/plain": [
       "[('Ersel', 122000)]"
      ]
     },
     "execution_count": 84,
     "metadata": {},
     "output_type": "execute_result"
    }
   ],
   "source": [
    "%%sql\n",
    "SELECT first_name, salary\n",
    "FROM Workers w1\n",
    "WHERE 4 = (\n",
    " SELECT COUNT( DISTINCT ( W2.salary ) )\n",
    " FROM Workers W2\n",
    " WHERE W2.salary >= W1.salary\n",
    " );"
   ]
  },
  {
   "cell_type": "markdown",
   "id": "1a3c6295-1ecc-4b7c-a32e-679d6b725d5c",
   "metadata": {},
   "source": [
    "### Q-35: Write an SQL query to fetch the list of employees with the same salary."
   ]
  },
  {
   "cell_type": "code",
   "execution_count": 91,
   "id": "11a5ec05-245e-45a3-8a02-58d39de34461",
   "metadata": {},
   "outputs": [
    {
     "name": "stdout",
     "output_type": "stream",
     "text": [
      " * sqlite:///sql-examples.db\n",
      "Done.\n"
     ]
    },
    {
     "data": {
      "text/html": [
       "<table>\n",
       "    <tr>\n",
       "        <th>first_name</th>\n",
       "        <th>salary</th>\n",
       "    </tr>\n",
       "    <tr>\n",
       "        <td>Amitabh</td>\n",
       "        <td>500000</td>\n",
       "    </tr>\n",
       "    <tr>\n",
       "        <td>Vivek</td>\n",
       "        <td>500000</td>\n",
       "    </tr>\n",
       "</table>"
      ],
      "text/plain": [
       "[('Amitabh', 500000), ('Vivek', 500000)]"
      ]
     },
     "execution_count": 91,
     "metadata": {},
     "output_type": "execute_result"
    }
   ],
   "source": [
    "%%sql\n",
    "SELECT w1.first_name, w1.salary FROM Workers AS w1, Workers AS w2\n",
    "WHERE w1.salary = w2.salary AND w1.worker_id != w2.worker_id;"
   ]
  },
  {
   "cell_type": "markdown",
   "id": "e84f668c-1d0f-405e-8862-03858358cbcb",
   "metadata": {},
   "source": [
    "### Q-36: Write an SQL query to show the second highest salary from a table."
   ]
  },
  {
   "cell_type": "code",
   "execution_count": 97,
   "id": "4ff52e02-3a8e-4be7-833b-42a33f1f5d39",
   "metadata": {},
   "outputs": [
    {
     "name": "stdout",
     "output_type": "stream",
     "text": [
      " * sqlite:///sql-examples.db\n",
      "Done.\n"
     ]
    },
    {
     "data": {
      "text/html": [
       "<table>\n",
       "    <tr>\n",
       "        <th>worker_id</th>\n",
       "        <th>first_name</th>\n",
       "        <th>last_name</th>\n",
       "        <th>salary</th>\n",
       "        <th>joining_date</th>\n",
       "        <th>department</th>\n",
       "    </tr>\n",
       "    <tr>\n",
       "        <td>4</td>\n",
       "        <td>Amitabh</td>\n",
       "        <td>Singh</td>\n",
       "        <td>500000</td>\n",
       "        <td>14-02-20 09.00.00</td>\n",
       "        <td>Admin</td>\n",
       "    </tr>\n",
       "</table>"
      ],
      "text/plain": [
       "[(4, 'Amitabh', 'Singh', 500000, '14-02-20 09.00.00', 'Admin')]"
      ]
     },
     "execution_count": 97,
     "metadata": {},
     "output_type": "execute_result"
    }
   ],
   "source": [
    "%%sql\n",
    "SELECT * FROM Workers WHERE salary = (SELECT salary FROM (SELECT salary FROM Workers ORDER BY salary DESC LIMIT 2)) ORDER BY salary ASC LIMIT 1; "
   ]
  },
  {
   "cell_type": "code",
   "execution_count": 100,
   "id": "a2976753-fd68-486c-8b09-59cd135fd134",
   "metadata": {},
   "outputs": [
    {
     "name": "stdout",
     "output_type": "stream",
     "text": [
      " * sqlite:///sql-examples.db\n",
      "Done.\n"
     ]
    },
    {
     "data": {
      "text/html": [
       "<table>\n",
       "    <tr>\n",
       "        <th>first_name</th>\n",
       "        <th>MAX(salary)</th>\n",
       "    </tr>\n",
       "    <tr>\n",
       "        <td>Vishal</td>\n",
       "        <td>300000</td>\n",
       "    </tr>\n",
       "</table>"
      ],
      "text/plain": [
       "[('Vishal', 300000)]"
      ]
     },
     "execution_count": 100,
     "metadata": {},
     "output_type": "execute_result"
    }
   ],
   "source": [
    "%%sql\n",
    "SELECT first_name, MAX(salary) FROM Workers\n",
    "WHERE salary NOT IN (SELECT MAX(salary) FROM Workers);"
   ]
  },
  {
   "cell_type": "markdown",
   "id": "c7035aed-5d96-4da7-b703-b433b63a1299",
   "metadata": {},
   "source": [
    "### Q-37: Write an SQL query to show one row twice in results from a table."
   ]
  },
  {
   "cell_type": "code",
   "execution_count": 103,
   "id": "ecb006ca-b210-451d-b1c6-ced1618cc45f",
   "metadata": {},
   "outputs": [
    {
     "name": "stdout",
     "output_type": "stream",
     "text": [
      " * sqlite:///sql-examples.db\n",
      "Done.\n"
     ]
    },
    {
     "data": {
      "text/html": [
       "<table>\n",
       "    <tr>\n",
       "        <th>first_name</th>\n",
       "        <th>department</th>\n",
       "    </tr>\n",
       "    <tr>\n",
       "        <td>Niharika</td>\n",
       "        <td>Admin</td>\n",
       "    </tr>\n",
       "    <tr>\n",
       "        <td>Amitabh</td>\n",
       "        <td>Admin</td>\n",
       "    </tr>\n",
       "    <tr>\n",
       "        <td>Vivek</td>\n",
       "        <td>Admin</td>\n",
       "    </tr>\n",
       "    <tr>\n",
       "        <td>Geetika</td>\n",
       "        <td>Admin</td>\n",
       "    </tr>\n",
       "    <tr>\n",
       "        <td>Niharika</td>\n",
       "        <td>Admin</td>\n",
       "    </tr>\n",
       "    <tr>\n",
       "        <td>Amitabh</td>\n",
       "        <td>Admin</td>\n",
       "    </tr>\n",
       "    <tr>\n",
       "        <td>Vivek</td>\n",
       "        <td>Admin</td>\n",
       "    </tr>\n",
       "    <tr>\n",
       "        <td>Geetika</td>\n",
       "        <td>Admin</td>\n",
       "    </tr>\n",
       "</table>"
      ],
      "text/plain": [
       "[('Niharika', 'Admin'),\n",
       " ('Amitabh', 'Admin'),\n",
       " ('Vivek', 'Admin'),\n",
       " ('Geetika', 'Admin'),\n",
       " ('Niharika', 'Admin'),\n",
       " ('Amitabh', 'Admin'),\n",
       " ('Vivek', 'Admin'),\n",
       " ('Geetika', 'Admin')]"
      ]
     },
     "execution_count": 103,
     "metadata": {},
     "output_type": "execute_result"
    }
   ],
   "source": [
    "%%sql\n",
    "SELECT first_name, department FROM Workers WHERE department = 'Admin'\n",
    "UNION ALL\n",
    "SELECT first_name, department FROM Workers WHERE department = 'Admin';"
   ]
  },
  {
   "cell_type": "markdown",
   "id": "0ce08619-33c8-4fde-8699-364bf34db380",
   "metadata": {},
   "source": [
    "### Q-38: Write an SQL query to fetch intersecting records of two tables."
   ]
  },
  {
   "cell_type": "code",
   "execution_count": 105,
   "id": "7013c03c-7339-4e86-bbca-1e85d2ede877",
   "metadata": {},
   "outputs": [
    {
     "name": "stdout",
     "output_type": "stream",
     "text": [
      " * sqlite:///sql-examples.db\n",
      "Done.\n"
     ]
    },
    {
     "data": {
      "text/html": [
       "<table>\n",
       "    <tr>\n",
       "        <th>worker_id</th>\n",
       "        <th>first_name</th>\n",
       "        <th>last_name</th>\n",
       "        <th>salary</th>\n",
       "        <th>joining_date</th>\n",
       "        <th>department</th>\n",
       "    </tr>\n",
       "    <tr>\n",
       "        <td>1</td>\n",
       "        <td>Monika</td>\n",
       "        <td>Arora</td>\n",
       "        <td>100000</td>\n",
       "        <td>14-02-20 09.00.00</td>\n",
       "        <td>HR</td>\n",
       "    </tr>\n",
       "    <tr>\n",
       "        <td>2</td>\n",
       "        <td>Niharika</td>\n",
       "        <td>Verma</td>\n",
       "        <td>80000</td>\n",
       "        <td>14-06-11 09.00.00</td>\n",
       "        <td>Admin</td>\n",
       "    </tr>\n",
       "    <tr>\n",
       "        <td>3</td>\n",
       "        <td>Vishal</td>\n",
       "        <td>Singhal</td>\n",
       "        <td>300000</td>\n",
       "        <td>14-02-20 09.00.00</td>\n",
       "        <td>HR</td>\n",
       "    </tr>\n",
       "    <tr>\n",
       "        <td>4</td>\n",
       "        <td>Amitabh</td>\n",
       "        <td>Singh</td>\n",
       "        <td>500000</td>\n",
       "        <td>14-02-20 09.00.00</td>\n",
       "        <td>Admin</td>\n",
       "    </tr>\n",
       "    <tr>\n",
       "        <td>5</td>\n",
       "        <td>Vivek</td>\n",
       "        <td>Bhati</td>\n",
       "        <td>500000</td>\n",
       "        <td>14-06-11 09.00.00</td>\n",
       "        <td>Admin</td>\n",
       "    </tr>\n",
       "</table>"
      ],
      "text/plain": [
       "[(1, 'Monika', 'Arora', 100000, '14-02-20 09.00.00', 'HR'),\n",
       " (2, 'Niharika', 'Verma', 80000, '14-06-11 09.00.00', 'Admin'),\n",
       " (3, 'Vishal', 'Singhal', 300000, '14-02-20 09.00.00', 'HR'),\n",
       " (4, 'Amitabh', 'Singh', 500000, '14-02-20 09.00.00', 'Admin'),\n",
       " (5, 'Vivek', 'Bhati', 500000, '14-06-11 09.00.00', 'Admin')]"
      ]
     },
     "execution_count": 105,
     "metadata": {},
     "output_type": "execute_result"
    }
   ],
   "source": [
    "%%sql\n",
    "SELECT * FROM Workers\n",
    "INTERSECT\n",
    "SELECT * FROM WorkersClone LIMIT 5;"
   ]
  },
  {
   "cell_type": "markdown",
   "id": "38dc7517-43a4-4c90-b6cc-bbb1a387fbd1",
   "metadata": {},
   "source": [
    "### Q-39: Write an SQL query to fetch the first 50% records from a table."
   ]
  },
  {
   "cell_type": "code",
   "execution_count": 107,
   "id": "fd214437-5773-4fd3-be61-24571dc6d0ff",
   "metadata": {},
   "outputs": [
    {
     "name": "stdout",
     "output_type": "stream",
     "text": [
      " * sqlite:///sql-examples.db\n",
      "Done.\n"
     ]
    },
    {
     "data": {
      "text/html": [
       "<table>\n",
       "    <tr>\n",
       "        <th>worker_id</th>\n",
       "        <th>first_name</th>\n",
       "        <th>last_name</th>\n",
       "        <th>salary</th>\n",
       "        <th>joining_date</th>\n",
       "        <th>department</th>\n",
       "    </tr>\n",
       "    <tr>\n",
       "        <td>1</td>\n",
       "        <td>Monika</td>\n",
       "        <td>Arora</td>\n",
       "        <td>100000</td>\n",
       "        <td>14-02-20 09.00.00</td>\n",
       "        <td>HR</td>\n",
       "    </tr>\n",
       "    <tr>\n",
       "        <td>2</td>\n",
       "        <td>Niharika</td>\n",
       "        <td>Verma</td>\n",
       "        <td>80000</td>\n",
       "        <td>14-06-11 09.00.00</td>\n",
       "        <td>Admin</td>\n",
       "    </tr>\n",
       "    <tr>\n",
       "        <td>3</td>\n",
       "        <td>Vishal</td>\n",
       "        <td>Singhal</td>\n",
       "        <td>300000</td>\n",
       "        <td>14-02-20 09.00.00</td>\n",
       "        <td>HR</td>\n",
       "    </tr>\n",
       "    <tr>\n",
       "        <td>4</td>\n",
       "        <td>Amitabh</td>\n",
       "        <td>Singh</td>\n",
       "        <td>500000</td>\n",
       "        <td>14-02-20 09.00.00</td>\n",
       "        <td>Admin</td>\n",
       "    </tr>\n",
       "</table>"
      ],
      "text/plain": [
       "[(1, 'Monika', 'Arora', 100000, '14-02-20 09.00.00', 'HR'),\n",
       " (2, 'Niharika', 'Verma', 80000, '14-06-11 09.00.00', 'Admin'),\n",
       " (3, 'Vishal', 'Singhal', 300000, '14-02-20 09.00.00', 'HR'),\n",
       " (4, 'Amitabh', 'Singh', 500000, '14-02-20 09.00.00', 'Admin')]"
      ]
     },
     "execution_count": 107,
     "metadata": {},
     "output_type": "execute_result"
    }
   ],
   "source": [
    "%%sql\n",
    "SELECT * FROM Workers LIMIT (SELECT COUNT(*) FROM Workers) / 2;"
   ]
  },
  {
   "cell_type": "markdown",
   "id": "3d991050-5561-49e4-ac4a-6281106ebcfb",
   "metadata": {},
   "source": [
    "### Q-40: Write an SQL query to fetch the departments that have less than five people in it."
   ]
  },
  {
   "cell_type": "code",
   "execution_count": 110,
   "id": "012a66fc-56cf-4733-b21b-0286618d9e5c",
   "metadata": {},
   "outputs": [
    {
     "name": "stdout",
     "output_type": "stream",
     "text": [
      " * sqlite:///sql-examples.db\n",
      "Done.\n"
     ]
    },
    {
     "data": {
      "text/html": [
       "<table>\n",
       "    <tr>\n",
       "        <th>worker_id</th>\n",
       "        <th>first_name</th>\n",
       "        <th>last_name</th>\n",
       "        <th>salary</th>\n",
       "        <th>joining_date</th>\n",
       "        <th>department</th>\n",
       "    </tr>\n",
       "    <tr>\n",
       "        <td>6</td>\n",
       "        <td>Vipul</td>\n",
       "        <td>Diwan</td>\n",
       "        <td>200000</td>\n",
       "        <td>14-06-11 09.00.00</td>\n",
       "        <td>Account</td>\n",
       "    </tr>\n",
       "    <tr>\n",
       "        <td>2</td>\n",
       "        <td>Niharika</td>\n",
       "        <td>Verma</td>\n",
       "        <td>80000</td>\n",
       "        <td>14-06-11 09.00.00</td>\n",
       "        <td>Admin</td>\n",
       "    </tr>\n",
       "    <tr>\n",
       "        <td>9</td>\n",
       "        <td>Ersel</td>\n",
       "        <td>Kızmaz</td>\n",
       "        <td>122000</td>\n",
       "        <td>14-05-2022 09.00.00</td>\n",
       "        <td>DataScientist</td>\n",
       "    </tr>\n",
       "    <tr>\n",
       "        <td>1</td>\n",
       "        <td>Monika</td>\n",
       "        <td>Arora</td>\n",
       "        <td>100000</td>\n",
       "        <td>14-02-20 09.00.00</td>\n",
       "        <td>HR</td>\n",
       "    </tr>\n",
       "</table>"
      ],
      "text/plain": [
       "[(6, 'Vipul', 'Diwan', 200000, '14-06-11 09.00.00', 'Account'),\n",
       " (2, 'Niharika', 'Verma', 80000, '14-06-11 09.00.00', 'Admin'),\n",
       " (9, 'Ersel', 'Kızmaz', 122000, '14-05-2022 09.00.00', 'DataScientist'),\n",
       " (1, 'Monika', 'Arora', 100000, '14-02-20 09.00.00', 'HR')]"
      ]
     },
     "execution_count": 110,
     "metadata": {},
     "output_type": "execute_result"
    }
   ],
   "source": [
    "%%sql\n",
    "SELECT * FROM Workers GROUP BY department HAVING COUNT(*) < 5;"
   ]
  },
  {
   "cell_type": "markdown",
   "id": "1fb4221e-4753-46cf-b352-f0f662d5a14d",
   "metadata": {},
   "source": [
    "### Q-41: Write an SQL query to show all departments along with the number of people in there."
   ]
  },
  {
   "cell_type": "code",
   "execution_count": 7,
   "id": "6092c46e-7f9f-4724-9c71-19fc29b88c9c",
   "metadata": {},
   "outputs": [
    {
     "name": "stdout",
     "output_type": "stream",
     "text": [
      " * sqlite:///sql-examples.db\n",
      "Done.\n"
     ]
    },
    {
     "data": {
      "text/html": [
       "<table>\n",
       "    <tr>\n",
       "        <th>department</th>\n",
       "        <th>count</th>\n",
       "    </tr>\n",
       "    <tr>\n",
       "        <td>Account</td>\n",
       "        <td>2</td>\n",
       "    </tr>\n",
       "    <tr>\n",
       "        <td>Admin</td>\n",
       "        <td>4</td>\n",
       "    </tr>\n",
       "    <tr>\n",
       "        <td>DataScientist</td>\n",
       "        <td>1</td>\n",
       "    </tr>\n",
       "    <tr>\n",
       "        <td>HR</td>\n",
       "        <td>2</td>\n",
       "    </tr>\n",
       "</table>"
      ],
      "text/plain": [
       "[('Account', 2), ('Admin', 4), ('DataScientist', 1), ('HR', 2)]"
      ]
     },
     "execution_count": 7,
     "metadata": {},
     "output_type": "execute_result"
    }
   ],
   "source": [
    "%%sql\n",
    "SELECT department, COUNT(department) AS count FROM Workers GROUP BY department;"
   ]
  },
  {
   "cell_type": "markdown",
   "id": "87cc984c-50e3-471d-8c43-aeb908ffdb8b",
   "metadata": {},
   "source": [
    "### Q-42: Write an SQL query to show the last record from a table."
   ]
  },
  {
   "cell_type": "code",
   "execution_count": 9,
   "id": "7284b83a-a2ac-426b-862c-1f04b894e87e",
   "metadata": {},
   "outputs": [
    {
     "name": "stdout",
     "output_type": "stream",
     "text": [
      " * sqlite:///sql-examples.db\n",
      "Done.\n"
     ]
    },
    {
     "data": {
      "text/html": [
       "<table>\n",
       "    <tr>\n",
       "        <th>worker_id</th>\n",
       "        <th>first_name</th>\n",
       "        <th>last_name</th>\n",
       "        <th>salary</th>\n",
       "        <th>joining_date</th>\n",
       "        <th>department</th>\n",
       "    </tr>\n",
       "    <tr>\n",
       "        <td>9</td>\n",
       "        <td>Ersel</td>\n",
       "        <td>Kızmaz</td>\n",
       "        <td>122000</td>\n",
       "        <td>14-05-2022 09.00.00</td>\n",
       "        <td>DataScientist</td>\n",
       "    </tr>\n",
       "</table>"
      ],
      "text/plain": [
       "[(9, 'Ersel', 'Kızmaz', 122000, '14-05-2022 09.00.00', 'DataScientist')]"
      ]
     },
     "execution_count": 9,
     "metadata": {},
     "output_type": "execute_result"
    }
   ],
   "source": [
    "%%sql\n",
    "SELECT * FROM Workers WHERE worker_id = (SELECT MAX(worker_id) FROM Workers);"
   ]
  },
  {
   "cell_type": "markdown",
   "id": "300eb136-da9f-479d-afdf-8657a5eaca8f",
   "metadata": {},
   "source": [
    "### Q-43: Write an SQL query to fetch the first row of a table."
   ]
  },
  {
   "cell_type": "code",
   "execution_count": 3,
   "id": "971a062f-28d4-4f38-9653-60f7937700b5",
   "metadata": {},
   "outputs": [
    {
     "name": "stdout",
     "output_type": "stream",
     "text": [
      " * sqlite:///sql-examples.db\n",
      "Done.\n"
     ]
    },
    {
     "data": {
      "text/html": [
       "<table>\n",
       "    <tr>\n",
       "        <th>worker_id</th>\n",
       "        <th>first_name</th>\n",
       "        <th>last_name</th>\n",
       "        <th>salary</th>\n",
       "        <th>joining_date</th>\n",
       "        <th>department</th>\n",
       "    </tr>\n",
       "    <tr>\n",
       "        <td>1</td>\n",
       "        <td>Monika</td>\n",
       "        <td>Arora</td>\n",
       "        <td>100000</td>\n",
       "        <td>14-02-20 09.00.00</td>\n",
       "        <td>HR</td>\n",
       "    </tr>\n",
       "</table>"
      ],
      "text/plain": [
       "[(1, 'Monika', 'Arora', 100000, '14-02-20 09.00.00', 'HR')]"
      ]
     },
     "execution_count": 3,
     "metadata": {},
     "output_type": "execute_result"
    }
   ],
   "source": [
    "%%sql\n",
    "SELECT * FROM Workers LIMIT 1;"
   ]
  },
  {
   "cell_type": "code",
   "execution_count": 4,
   "id": "f2973b39-554b-45e3-a717-6808438bea52",
   "metadata": {},
   "outputs": [],
   "source": [
    "# or,"
   ]
  },
  {
   "cell_type": "code",
   "execution_count": 6,
   "id": "f6fb216e-994b-4819-9c83-b243488a149a",
   "metadata": {},
   "outputs": [
    {
     "name": "stdout",
     "output_type": "stream",
     "text": [
      " * sqlite:///sql-examples.db\n",
      "Done.\n"
     ]
    },
    {
     "data": {
      "text/html": [
       "<table>\n",
       "    <tr>\n",
       "        <th>worker_id</th>\n",
       "        <th>first_name</th>\n",
       "        <th>last_name</th>\n",
       "        <th>salary</th>\n",
       "        <th>joining_date</th>\n",
       "        <th>department</th>\n",
       "    </tr>\n",
       "    <tr>\n",
       "        <td>1</td>\n",
       "        <td>Monika</td>\n",
       "        <td>Arora</td>\n",
       "        <td>100000</td>\n",
       "        <td>14-02-20 09.00.00</td>\n",
       "        <td>HR</td>\n",
       "    </tr>\n",
       "</table>"
      ],
      "text/plain": [
       "[(1, 'Monika', 'Arora', 100000, '14-02-20 09.00.00', 'HR')]"
      ]
     },
     "execution_count": 6,
     "metadata": {},
     "output_type": "execute_result"
    }
   ],
   "source": [
    "%%sql\n",
    "SELECT * FROM Workers WHERE worker_id = (SELECT MIN(worker_id) FROM Workers);"
   ]
  },
  {
   "cell_type": "markdown",
   "id": "b40c94dc-af02-406d-93e6-875d3fe77f4f",
   "metadata": {},
   "source": [
    "### Q-44: Write an SQL query to fetch the last five records from a table."
   ]
  },
  {
   "cell_type": "code",
   "execution_count": 9,
   "id": "fa09f8fa-7d21-4ea2-9a1f-dcb5aa0b13bd",
   "metadata": {},
   "outputs": [
    {
     "name": "stdout",
     "output_type": "stream",
     "text": [
      " * sqlite:///sql-examples.db\n",
      "Done.\n"
     ]
    },
    {
     "data": {
      "text/html": [
       "<table>\n",
       "    <tr>\n",
       "        <th>worker_id</th>\n",
       "        <th>first_name</th>\n",
       "        <th>last_name</th>\n",
       "        <th>salary</th>\n",
       "        <th>joining_date</th>\n",
       "        <th>department</th>\n",
       "    </tr>\n",
       "    <tr>\n",
       "        <td>9</td>\n",
       "        <td>Ersel</td>\n",
       "        <td>Kızmaz</td>\n",
       "        <td>122000</td>\n",
       "        <td>14-05-2022 09.00.00</td>\n",
       "        <td>DataScientist</td>\n",
       "    </tr>\n",
       "    <tr>\n",
       "        <td>8</td>\n",
       "        <td>Geetika</td>\n",
       "        <td>Chauhan</td>\n",
       "        <td>90000</td>\n",
       "        <td>14-04-11 09.00.00</td>\n",
       "        <td>Admin</td>\n",
       "    </tr>\n",
       "    <tr>\n",
       "        <td>7</td>\n",
       "        <td>Satish</td>\n",
       "        <td>Kumar</td>\n",
       "        <td>75000</td>\n",
       "        <td>14-01-20 09.00.00</td>\n",
       "        <td>Account</td>\n",
       "    </tr>\n",
       "    <tr>\n",
       "        <td>6</td>\n",
       "        <td>Vipul</td>\n",
       "        <td>Diwan</td>\n",
       "        <td>200000</td>\n",
       "        <td>14-06-11 09.00.00</td>\n",
       "        <td>Account</td>\n",
       "    </tr>\n",
       "    <tr>\n",
       "        <td>5</td>\n",
       "        <td>Vivek</td>\n",
       "        <td>Bhati</td>\n",
       "        <td>500000</td>\n",
       "        <td>14-06-11 09.00.00</td>\n",
       "        <td>Admin</td>\n",
       "    </tr>\n",
       "</table>"
      ],
      "text/plain": [
       "[(9, 'Ersel', 'Kızmaz', 122000, '14-05-2022 09.00.00', 'DataScientist'),\n",
       " (8, 'Geetika', 'Chauhan', 90000, '14-04-11 09.00.00', 'Admin'),\n",
       " (7, 'Satish', 'Kumar', 75000, '14-01-20 09.00.00', 'Account'),\n",
       " (6, 'Vipul', 'Diwan', 200000, '14-06-11 09.00.00', 'Account'),\n",
       " (5, 'Vivek', 'Bhati', 500000, '14-06-11 09.00.00', 'Admin')]"
      ]
     },
     "execution_count": 9,
     "metadata": {},
     "output_type": "execute_result"
    }
   ],
   "source": [
    "%%sql\n",
    "SELECT * FROM Workers ORDER BY worker_id DESC LIMIT 5;"
   ]
  },
  {
   "cell_type": "code",
   "execution_count": 14,
   "id": "34aa187c-ed2e-4e3b-a459-61bd9a17aa70",
   "metadata": {},
   "outputs": [
    {
     "name": "stdout",
     "output_type": "stream",
     "text": [
      " * sqlite:///sql-examples.db\n",
      "Done.\n"
     ]
    },
    {
     "data": {
      "text/html": [
       "<table>\n",
       "    <tr>\n",
       "        <th>worker_id</th>\n",
       "        <th>first_name</th>\n",
       "        <th>last_name</th>\n",
       "        <th>salary</th>\n",
       "        <th>joining_date</th>\n",
       "        <th>department</th>\n",
       "    </tr>\n",
       "    <tr>\n",
       "        <td>1</td>\n",
       "        <td>Monika</td>\n",
       "        <td>Arora</td>\n",
       "        <td>100000</td>\n",
       "        <td>14-02-20 09.00.00</td>\n",
       "        <td>HR</td>\n",
       "    </tr>\n",
       "    <tr>\n",
       "        <td>2</td>\n",
       "        <td>Niharika</td>\n",
       "        <td>Verma</td>\n",
       "        <td>80000</td>\n",
       "        <td>14-06-11 09.00.00</td>\n",
       "        <td>Admin</td>\n",
       "    </tr>\n",
       "    <tr>\n",
       "        <td>3</td>\n",
       "        <td>Vishal</td>\n",
       "        <td>Singhal</td>\n",
       "        <td>300000</td>\n",
       "        <td>14-02-20 09.00.00</td>\n",
       "        <td>HR</td>\n",
       "    </tr>\n",
       "    <tr>\n",
       "        <td>4</td>\n",
       "        <td>Amitabh</td>\n",
       "        <td>Singh</td>\n",
       "        <td>500000</td>\n",
       "        <td>14-02-20 09.00.00</td>\n",
       "        <td>Admin</td>\n",
       "    </tr>\n",
       "    <tr>\n",
       "        <td>5</td>\n",
       "        <td>Vivek</td>\n",
       "        <td>Bhati</td>\n",
       "        <td>500000</td>\n",
       "        <td>14-06-11 09.00.00</td>\n",
       "        <td>Admin</td>\n",
       "    </tr>\n",
       "</table>"
      ],
      "text/plain": [
       "[(1, 'Monika', 'Arora', 100000, '14-02-20 09.00.00', 'HR'),\n",
       " (2, 'Niharika', 'Verma', 80000, '14-06-11 09.00.00', 'Admin'),\n",
       " (3, 'Vishal', 'Singhal', 300000, '14-02-20 09.00.00', 'HR'),\n",
       " (4, 'Amitabh', 'Singh', 500000, '14-02-20 09.00.00', 'Admin'),\n",
       " (5, 'Vivek', 'Bhati', 500000, '14-06-11 09.00.00', 'Admin')]"
      ]
     },
     "execution_count": 14,
     "metadata": {},
     "output_type": "execute_result"
    }
   ],
   "source": [
    "%%sql\n",
    "SELECT * FROM Workers WHERE worker_id <= 5"
   ]
  },
  {
   "cell_type": "markdown",
   "id": "59752700-ec81-459c-8569-dfc35968ee4c",
   "metadata": {},
   "source": [
    "### Q-45: Write an SQL query to print the name of employees having the highest salary in each department."
   ]
  },
  {
   "cell_type": "code",
   "execution_count": 3,
   "id": "211fd86f-5f8f-4929-9c04-d3905ea8344a",
   "metadata": {},
   "outputs": [
    {
     "name": "stdout",
     "output_type": "stream",
     "text": [
      " * sqlite:///sql-examples.db\n",
      "Done.\n"
     ]
    },
    {
     "data": {
      "text/html": [
       "<table>\n",
       "    <tr>\n",
       "        <th>worker_id</th>\n",
       "        <th>first_name</th>\n",
       "        <th>last_name</th>\n",
       "        <th>salary</th>\n",
       "        <th>joining_date</th>\n",
       "        <th>department</th>\n",
       "    </tr>\n",
       "    <tr>\n",
       "        <td>1</td>\n",
       "        <td>Monika</td>\n",
       "        <td>Arora</td>\n",
       "        <td>100000</td>\n",
       "        <td>14-02-20 09.00.00</td>\n",
       "        <td>HR</td>\n",
       "    </tr>\n",
       "    <tr>\n",
       "        <td>2</td>\n",
       "        <td>Niharika</td>\n",
       "        <td>Verma</td>\n",
       "        <td>80000</td>\n",
       "        <td>14-06-11 09.00.00</td>\n",
       "        <td>Admin</td>\n",
       "    </tr>\n",
       "    <tr>\n",
       "        <td>3</td>\n",
       "        <td>Vishal</td>\n",
       "        <td>Singhal</td>\n",
       "        <td>300000</td>\n",
       "        <td>14-02-20 09.00.00</td>\n",
       "        <td>HR</td>\n",
       "    </tr>\n",
       "    <tr>\n",
       "        <td>4</td>\n",
       "        <td>Amitabh</td>\n",
       "        <td>Singh</td>\n",
       "        <td>500000</td>\n",
       "        <td>14-02-20 09.00.00</td>\n",
       "        <td>Admin</td>\n",
       "    </tr>\n",
       "    <tr>\n",
       "        <td>5</td>\n",
       "        <td>Vivek</td>\n",
       "        <td>Bhati</td>\n",
       "        <td>500000</td>\n",
       "        <td>14-06-11 09.00.00</td>\n",
       "        <td>Admin</td>\n",
       "    </tr>\n",
       "    <tr>\n",
       "        <td>6</td>\n",
       "        <td>Vipul</td>\n",
       "        <td>Diwan</td>\n",
       "        <td>200000</td>\n",
       "        <td>14-06-11 09.00.00</td>\n",
       "        <td>Account</td>\n",
       "    </tr>\n",
       "    <tr>\n",
       "        <td>7</td>\n",
       "        <td>Satish</td>\n",
       "        <td>Kumar</td>\n",
       "        <td>75000</td>\n",
       "        <td>14-01-20 09.00.00</td>\n",
       "        <td>Account</td>\n",
       "    </tr>\n",
       "    <tr>\n",
       "        <td>8</td>\n",
       "        <td>Geetika</td>\n",
       "        <td>Chauhan</td>\n",
       "        <td>90000</td>\n",
       "        <td>14-04-11 09.00.00</td>\n",
       "        <td>Admin</td>\n",
       "    </tr>\n",
       "    <tr>\n",
       "        <td>9</td>\n",
       "        <td>Ersel</td>\n",
       "        <td>Kızmaz</td>\n",
       "        <td>122000</td>\n",
       "        <td>14-05-2022 09.00.00</td>\n",
       "        <td>DataScientist</td>\n",
       "    </tr>\n",
       "</table>"
      ],
      "text/plain": [
       "[(1, 'Monika', 'Arora', 100000, '14-02-20 09.00.00', 'HR'),\n",
       " (2, 'Niharika', 'Verma', 80000, '14-06-11 09.00.00', 'Admin'),\n",
       " (3, 'Vishal', 'Singhal', 300000, '14-02-20 09.00.00', 'HR'),\n",
       " (4, 'Amitabh', 'Singh', 500000, '14-02-20 09.00.00', 'Admin'),\n",
       " (5, 'Vivek', 'Bhati', 500000, '14-06-11 09.00.00', 'Admin'),\n",
       " (6, 'Vipul', 'Diwan', 200000, '14-06-11 09.00.00', 'Account'),\n",
       " (7, 'Satish', 'Kumar', 75000, '14-01-20 09.00.00', 'Account'),\n",
       " (8, 'Geetika', 'Chauhan', 90000, '14-04-11 09.00.00', 'Admin'),\n",
       " (9, 'Ersel', 'Kızmaz', 122000, '14-05-2022 09.00.00', 'DataScientist')]"
      ]
     },
     "execution_count": 3,
     "metadata": {},
     "output_type": "execute_result"
    }
   ],
   "source": [
    "%%sql\n",
    "SELECT * FROM Workers;"
   ]
  },
  {
   "cell_type": "code",
   "execution_count": 5,
   "id": "39b294b7-b599-4091-b688-04bea381de4c",
   "metadata": {},
   "outputs": [
    {
     "name": "stdout",
     "output_type": "stream",
     "text": [
      " * sqlite:///sql-examples.db\n",
      "Done.\n"
     ]
    },
    {
     "data": {
      "text/html": [
       "<table>\n",
       "    <tr>\n",
       "        <th>first_name</th>\n",
       "        <th>highest_salary</th>\n",
       "        <th>department</th>\n",
       "    </tr>\n",
       "    <tr>\n",
       "        <td>Vipul</td>\n",
       "        <td>200000</td>\n",
       "        <td>Account</td>\n",
       "    </tr>\n",
       "    <tr>\n",
       "        <td>Amitabh</td>\n",
       "        <td>500000</td>\n",
       "        <td>Admin</td>\n",
       "    </tr>\n",
       "    <tr>\n",
       "        <td>Ersel</td>\n",
       "        <td>122000</td>\n",
       "        <td>DataScientist</td>\n",
       "    </tr>\n",
       "    <tr>\n",
       "        <td>Vishal</td>\n",
       "        <td>300000</td>\n",
       "        <td>HR</td>\n",
       "    </tr>\n",
       "</table>"
      ],
      "text/plain": [
       "[('Vipul', 200000, 'Account'),\n",
       " ('Amitabh', 500000, 'Admin'),\n",
       " ('Ersel', 122000, 'DataScientist'),\n",
       " ('Vishal', 300000, 'HR')]"
      ]
     },
     "execution_count": 5,
     "metadata": {},
     "output_type": "execute_result"
    }
   ],
   "source": [
    "%%sql\n",
    "SELECT first_name, MAX(salary) AS highest_salary, department FROM Workers GROUP BY department;"
   ]
  },
  {
   "cell_type": "markdown",
   "id": "6b9af52d-7503-43df-9f73-1869cc767715",
   "metadata": {},
   "source": [
    "### Q-46: Write an SQL query to fetch three max salaries from a table."
   ]
  },
  {
   "cell_type": "code",
   "execution_count": 3,
   "id": "4b0bb07b-350f-4b8f-98a0-fba74d41f5f4",
   "metadata": {},
   "outputs": [
    {
     "name": "stdout",
     "output_type": "stream",
     "text": [
      " * sqlite:///sql-examples.db\n",
      "Done.\n"
     ]
    },
    {
     "data": {
      "text/html": [
       "<table>\n",
       "    <tr>\n",
       "        <th>worker_id</th>\n",
       "        <th>first_name</th>\n",
       "        <th>last_name</th>\n",
       "        <th>salary</th>\n",
       "        <th>joining_date</th>\n",
       "        <th>department</th>\n",
       "    </tr>\n",
       "    <tr>\n",
       "        <td>1</td>\n",
       "        <td>Monika</td>\n",
       "        <td>Arora</td>\n",
       "        <td>100000</td>\n",
       "        <td>14-02-20 09.00.00</td>\n",
       "        <td>HR</td>\n",
       "    </tr>\n",
       "    <tr>\n",
       "        <td>2</td>\n",
       "        <td>Niharika</td>\n",
       "        <td>Verma</td>\n",
       "        <td>80000</td>\n",
       "        <td>14-06-11 09.00.00</td>\n",
       "        <td>Admin</td>\n",
       "    </tr>\n",
       "    <tr>\n",
       "        <td>3</td>\n",
       "        <td>Vishal</td>\n",
       "        <td>Singhal</td>\n",
       "        <td>300000</td>\n",
       "        <td>14-02-20 09.00.00</td>\n",
       "        <td>HR</td>\n",
       "    </tr>\n",
       "    <tr>\n",
       "        <td>4</td>\n",
       "        <td>Amitabh</td>\n",
       "        <td>Singh</td>\n",
       "        <td>500000</td>\n",
       "        <td>14-02-20 09.00.00</td>\n",
       "        <td>Admin</td>\n",
       "    </tr>\n",
       "    <tr>\n",
       "        <td>5</td>\n",
       "        <td>Vivek</td>\n",
       "        <td>Bhati</td>\n",
       "        <td>500000</td>\n",
       "        <td>14-06-11 09.00.00</td>\n",
       "        <td>Admin</td>\n",
       "    </tr>\n",
       "    <tr>\n",
       "        <td>6</td>\n",
       "        <td>Vipul</td>\n",
       "        <td>Diwan</td>\n",
       "        <td>200000</td>\n",
       "        <td>14-06-11 09.00.00</td>\n",
       "        <td>Account</td>\n",
       "    </tr>\n",
       "    <tr>\n",
       "        <td>7</td>\n",
       "        <td>Satish</td>\n",
       "        <td>Kumar</td>\n",
       "        <td>75000</td>\n",
       "        <td>14-01-20 09.00.00</td>\n",
       "        <td>Account</td>\n",
       "    </tr>\n",
       "    <tr>\n",
       "        <td>8</td>\n",
       "        <td>Geetika</td>\n",
       "        <td>Chauhan</td>\n",
       "        <td>90000</td>\n",
       "        <td>14-04-11 09.00.00</td>\n",
       "        <td>Admin</td>\n",
       "    </tr>\n",
       "    <tr>\n",
       "        <td>9</td>\n",
       "        <td>Ersel</td>\n",
       "        <td>Kızmaz</td>\n",
       "        <td>122000</td>\n",
       "        <td>14-05-2022 09.00.00</td>\n",
       "        <td>DataScientist</td>\n",
       "    </tr>\n",
       "</table>"
      ],
      "text/plain": [
       "[(1, 'Monika', 'Arora', 100000, '14-02-20 09.00.00', 'HR'),\n",
       " (2, 'Niharika', 'Verma', 80000, '14-06-11 09.00.00', 'Admin'),\n",
       " (3, 'Vishal', 'Singhal', 300000, '14-02-20 09.00.00', 'HR'),\n",
       " (4, 'Amitabh', 'Singh', 500000, '14-02-20 09.00.00', 'Admin'),\n",
       " (5, 'Vivek', 'Bhati', 500000, '14-06-11 09.00.00', 'Admin'),\n",
       " (6, 'Vipul', 'Diwan', 200000, '14-06-11 09.00.00', 'Account'),\n",
       " (7, 'Satish', 'Kumar', 75000, '14-01-20 09.00.00', 'Account'),\n",
       " (8, 'Geetika', 'Chauhan', 90000, '14-04-11 09.00.00', 'Admin'),\n",
       " (9, 'Ersel', 'Kızmaz', 122000, '14-05-2022 09.00.00', 'DataScientist')]"
      ]
     },
     "execution_count": 3,
     "metadata": {},
     "output_type": "execute_result"
    }
   ],
   "source": [
    "%%sql\n",
    "SELECT * FROM Workers;"
   ]
  },
  {
   "cell_type": "code",
   "execution_count": 8,
   "id": "7cb932d1-298a-411f-ac0f-2dc8fd449e7b",
   "metadata": {},
   "outputs": [
    {
     "name": "stdout",
     "output_type": "stream",
     "text": [
      " * sqlite:///sql-examples.db\n",
      "Done.\n"
     ]
    },
    {
     "data": {
      "text/html": [
       "<table>\n",
       "    <tr>\n",
       "        <th>full_name</th>\n",
       "        <th>salary</th>\n",
       "        <th>department</th>\n",
       "    </tr>\n",
       "    <tr>\n",
       "        <td>Amitabh Singh</td>\n",
       "        <td>500000</td>\n",
       "        <td>Admin</td>\n",
       "    </tr>\n",
       "    <tr>\n",
       "        <td>Vivek Bhati</td>\n",
       "        <td>500000</td>\n",
       "        <td>Admin</td>\n",
       "    </tr>\n",
       "    <tr>\n",
       "        <td>Vishal Singhal</td>\n",
       "        <td>300000</td>\n",
       "        <td>HR</td>\n",
       "    </tr>\n",
       "</table>"
      ],
      "text/plain": [
       "[('Amitabh Singh', 500000, 'Admin'),\n",
       " ('Vivek Bhati', 500000, 'Admin'),\n",
       " ('Vishal Singhal', 300000, 'HR')]"
      ]
     },
     "execution_count": 8,
     "metadata": {},
     "output_type": "execute_result"
    }
   ],
   "source": [
    "%%sql\n",
    "SELECT first_name || ' '  || last_name AS full_name, salary, department\n",
    "FROM Workers ORDER BY salary DESC LIMIT 3;"
   ]
  },
  {
   "cell_type": "code",
   "execution_count": 25,
   "id": "71951730-eeca-4bda-a448-d52dfb8cd4b0",
   "metadata": {},
   "outputs": [
    {
     "name": "stdout",
     "output_type": "stream",
     "text": [
      " * sqlite:///sql-examples.db\n",
      "Done.\n"
     ]
    },
    {
     "data": {
      "text/html": [
       "<table>\n",
       "    <tr>\n",
       "        <th>salary</th>\n",
       "    </tr>\n",
       "    <tr>\n",
       "        <td>500000</td>\n",
       "    </tr>\n",
       "    <tr>\n",
       "        <td>300000</td>\n",
       "    </tr>\n",
       "    <tr>\n",
       "        <td>200000</td>\n",
       "    </tr>\n",
       "</table>"
      ],
      "text/plain": [
       "[(500000,), (300000,), (200000,)]"
      ]
     },
     "execution_count": 25,
     "metadata": {},
     "output_type": "execute_result"
    }
   ],
   "source": [
    "%%sql\n",
    "SELECT DISTINCT salary FROM Workers AS a\n",
    "WHERE 3 >= (SELECT COUNT(DISTINCT salary) FROM Workers AS b\n",
    "            WHERE a.salary <= b.salary)\n",
    "ORDER BY a.salary DESC;"
   ]
  },
  {
   "cell_type": "markdown",
   "id": "e050d476-4eb6-42c4-95b7-e5d5ad0c7833",
   "metadata": {},
   "source": [
    "### Q-47: Write an SQL query to fetch three min salaries from a table."
   ]
  },
  {
   "cell_type": "code",
   "execution_count": 4,
   "id": "153fa53b-ebd7-4d78-b3ee-9c86b0cf0517",
   "metadata": {},
   "outputs": [
    {
     "name": "stdout",
     "output_type": "stream",
     "text": [
      " * sqlite:///sql-examples.db\n",
      "Done.\n"
     ]
    },
    {
     "data": {
      "text/html": [
       "<table>\n",
       "    <tr>\n",
       "        <th>worker_id</th>\n",
       "        <th>first_name</th>\n",
       "        <th>last_name</th>\n",
       "        <th>salary</th>\n",
       "        <th>joining_date</th>\n",
       "        <th>department</th>\n",
       "    </tr>\n",
       "    <tr>\n",
       "        <td>1</td>\n",
       "        <td>Monika</td>\n",
       "        <td>Arora</td>\n",
       "        <td>100000</td>\n",
       "        <td>14-02-20 09.00.00</td>\n",
       "        <td>HR</td>\n",
       "    </tr>\n",
       "    <tr>\n",
       "        <td>2</td>\n",
       "        <td>Niharika</td>\n",
       "        <td>Verma</td>\n",
       "        <td>80000</td>\n",
       "        <td>14-06-11 09.00.00</td>\n",
       "        <td>Admin</td>\n",
       "    </tr>\n",
       "    <tr>\n",
       "        <td>3</td>\n",
       "        <td>Vishal</td>\n",
       "        <td>Singhal</td>\n",
       "        <td>300000</td>\n",
       "        <td>14-02-20 09.00.00</td>\n",
       "        <td>HR</td>\n",
       "    </tr>\n",
       "    <tr>\n",
       "        <td>4</td>\n",
       "        <td>Amitabh</td>\n",
       "        <td>Singh</td>\n",
       "        <td>500000</td>\n",
       "        <td>14-02-20 09.00.00</td>\n",
       "        <td>Admin</td>\n",
       "    </tr>\n",
       "    <tr>\n",
       "        <td>5</td>\n",
       "        <td>Vivek</td>\n",
       "        <td>Bhati</td>\n",
       "        <td>500000</td>\n",
       "        <td>14-06-11 09.00.00</td>\n",
       "        <td>Admin</td>\n",
       "    </tr>\n",
       "    <tr>\n",
       "        <td>6</td>\n",
       "        <td>Vipul</td>\n",
       "        <td>Diwan</td>\n",
       "        <td>200000</td>\n",
       "        <td>14-06-11 09.00.00</td>\n",
       "        <td>Account</td>\n",
       "    </tr>\n",
       "    <tr>\n",
       "        <td>7</td>\n",
       "        <td>Satish</td>\n",
       "        <td>Kumar</td>\n",
       "        <td>75000</td>\n",
       "        <td>14-01-20 09.00.00</td>\n",
       "        <td>Account</td>\n",
       "    </tr>\n",
       "    <tr>\n",
       "        <td>8</td>\n",
       "        <td>Geetika</td>\n",
       "        <td>Chauhan</td>\n",
       "        <td>90000</td>\n",
       "        <td>14-04-11 09.00.00</td>\n",
       "        <td>Admin</td>\n",
       "    </tr>\n",
       "    <tr>\n",
       "        <td>9</td>\n",
       "        <td>Ersel</td>\n",
       "        <td>Kızmaz</td>\n",
       "        <td>122000</td>\n",
       "        <td>14-05-2022 09.00.00</td>\n",
       "        <td>DataScientist</td>\n",
       "    </tr>\n",
       "</table>"
      ],
      "text/plain": [
       "[(1, 'Monika', 'Arora', 100000, '14-02-20 09.00.00', 'HR'),\n",
       " (2, 'Niharika', 'Verma', 80000, '14-06-11 09.00.00', 'Admin'),\n",
       " (3, 'Vishal', 'Singhal', 300000, '14-02-20 09.00.00', 'HR'),\n",
       " (4, 'Amitabh', 'Singh', 500000, '14-02-20 09.00.00', 'Admin'),\n",
       " (5, 'Vivek', 'Bhati', 500000, '14-06-11 09.00.00', 'Admin'),\n",
       " (6, 'Vipul', 'Diwan', 200000, '14-06-11 09.00.00', 'Account'),\n",
       " (7, 'Satish', 'Kumar', 75000, '14-01-20 09.00.00', 'Account'),\n",
       " (8, 'Geetika', 'Chauhan', 90000, '14-04-11 09.00.00', 'Admin'),\n",
       " (9, 'Ersel', 'Kızmaz', 122000, '14-05-2022 09.00.00', 'DataScientist')]"
      ]
     },
     "execution_count": 4,
     "metadata": {},
     "output_type": "execute_result"
    }
   ],
   "source": [
    "%%sql\n",
    "SELECT * FROM Workers;"
   ]
  },
  {
   "cell_type": "code",
   "execution_count": 25,
   "id": "f44bd888-cddf-41ff-b1ce-fed1cb69259b",
   "metadata": {},
   "outputs": [
    {
     "name": "stdout",
     "output_type": "stream",
     "text": [
      " * sqlite:///sql-examples.db\n",
      "Done.\n"
     ]
    },
    {
     "data": {
      "text/html": [
       "<table>\n",
       "    <tr>\n",
       "        <th>first_name</th>\n",
       "        <th>department</th>\n",
       "        <th>salary</th>\n",
       "    </tr>\n",
       "    <tr>\n",
       "        <td>Satish</td>\n",
       "        <td>Account</td>\n",
       "        <td>75000</td>\n",
       "    </tr>\n",
       "    <tr>\n",
       "        <td>Niharika</td>\n",
       "        <td>Admin</td>\n",
       "        <td>80000</td>\n",
       "    </tr>\n",
       "    <tr>\n",
       "        <td>Geetika</td>\n",
       "        <td>Admin</td>\n",
       "        <td>90000</td>\n",
       "    </tr>\n",
       "</table>"
      ],
      "text/plain": [
       "[('Satish', 'Account', 75000),\n",
       " ('Niharika', 'Admin', 80000),\n",
       " ('Geetika', 'Admin', 90000)]"
      ]
     },
     "execution_count": 25,
     "metadata": {},
     "output_type": "execute_result"
    }
   ],
   "source": [
    "%%sql\n",
    "SELECT first_name, department, salary FROM Workers ORDER BY salary ASC LIMIT 3;"
   ]
  },
  {
   "cell_type": "code",
   "execution_count": 26,
   "id": "2edbe9b4-cf56-4bc8-a56b-4110099d7726",
   "metadata": {},
   "outputs": [
    {
     "name": "stdout",
     "output_type": "stream",
     "text": [
      " * sqlite:///sql-examples.db\n",
      "Done.\n"
     ]
    },
    {
     "data": {
      "text/html": [
       "<table>\n",
       "    <tr>\n",
       "        <th>first_name</th>\n",
       "        <th>department</th>\n",
       "        <th>MIN(DISTINCT salary)</th>\n",
       "    </tr>\n",
       "    <tr>\n",
       "        <td>Satish</td>\n",
       "        <td>Account</td>\n",
       "        <td>75000</td>\n",
       "    </tr>\n",
       "    <tr>\n",
       "        <td>Niharika</td>\n",
       "        <td>Admin</td>\n",
       "        <td>80000</td>\n",
       "    </tr>\n",
       "    <tr>\n",
       "        <td>Monika</td>\n",
       "        <td>HR</td>\n",
       "        <td>100000</td>\n",
       "    </tr>\n",
       "</table>"
      ],
      "text/plain": [
       "[('Satish', 'Account', 75000),\n",
       " ('Niharika', 'Admin', 80000),\n",
       " ('Monika', 'HR', 100000)]"
      ]
     },
     "execution_count": 26,
     "metadata": {},
     "output_type": "execute_result"
    }
   ],
   "source": [
    "%%sql\n",
    "SELECT first_name, department, MIN(DISTINCT salary)\n",
    "FROM Workers \n",
    "GROUP BY department \n",
    "ORDER BY salary ASC LIMIT 3;"
   ]
  },
  {
   "cell_type": "markdown",
   "id": "85fbc99c-28da-4d1b-bfe1-84db2edef466",
   "metadata": {},
   "source": [
    "### Q-48: Write an SQL query to fetch nth max salaries from a table."
   ]
  },
  {
   "cell_type": "code",
   "execution_count": 3,
   "id": "069d9bb6-43fa-4166-9bf7-009c5508c85c",
   "metadata": {},
   "outputs": [
    {
     "name": "stdout",
     "output_type": "stream",
     "text": [
      " * sqlite:///sql-examples.db\n",
      "Done.\n"
     ]
    },
    {
     "data": {
      "text/html": [
       "<table>\n",
       "    <tr>\n",
       "        <th>worker_id</th>\n",
       "        <th>first_name</th>\n",
       "        <th>last_name</th>\n",
       "        <th>salary</th>\n",
       "        <th>joining_date</th>\n",
       "        <th>department</th>\n",
       "    </tr>\n",
       "    <tr>\n",
       "        <td>1</td>\n",
       "        <td>Monika</td>\n",
       "        <td>Arora</td>\n",
       "        <td>100000</td>\n",
       "        <td>14-02-20 09.00.00</td>\n",
       "        <td>HR</td>\n",
       "    </tr>\n",
       "    <tr>\n",
       "        <td>2</td>\n",
       "        <td>Niharika</td>\n",
       "        <td>Verma</td>\n",
       "        <td>80000</td>\n",
       "        <td>14-06-11 09.00.00</td>\n",
       "        <td>Admin</td>\n",
       "    </tr>\n",
       "    <tr>\n",
       "        <td>3</td>\n",
       "        <td>Vishal</td>\n",
       "        <td>Singhal</td>\n",
       "        <td>300000</td>\n",
       "        <td>14-02-20 09.00.00</td>\n",
       "        <td>HR</td>\n",
       "    </tr>\n",
       "    <tr>\n",
       "        <td>4</td>\n",
       "        <td>Amitabh</td>\n",
       "        <td>Singh</td>\n",
       "        <td>500000</td>\n",
       "        <td>14-02-20 09.00.00</td>\n",
       "        <td>Admin</td>\n",
       "    </tr>\n",
       "    <tr>\n",
       "        <td>5</td>\n",
       "        <td>Vivek</td>\n",
       "        <td>Bhati</td>\n",
       "        <td>500000</td>\n",
       "        <td>14-06-11 09.00.00</td>\n",
       "        <td>Admin</td>\n",
       "    </tr>\n",
       "    <tr>\n",
       "        <td>6</td>\n",
       "        <td>Vipul</td>\n",
       "        <td>Diwan</td>\n",
       "        <td>200000</td>\n",
       "        <td>14-06-11 09.00.00</td>\n",
       "        <td>Account</td>\n",
       "    </tr>\n",
       "    <tr>\n",
       "        <td>7</td>\n",
       "        <td>Satish</td>\n",
       "        <td>Kumar</td>\n",
       "        <td>75000</td>\n",
       "        <td>14-01-20 09.00.00</td>\n",
       "        <td>Account</td>\n",
       "    </tr>\n",
       "    <tr>\n",
       "        <td>8</td>\n",
       "        <td>Geetika</td>\n",
       "        <td>Chauhan</td>\n",
       "        <td>90000</td>\n",
       "        <td>14-04-11 09.00.00</td>\n",
       "        <td>Admin</td>\n",
       "    </tr>\n",
       "    <tr>\n",
       "        <td>9</td>\n",
       "        <td>Ersel</td>\n",
       "        <td>Kızmaz</td>\n",
       "        <td>122000</td>\n",
       "        <td>14-05-2022 09.00.00</td>\n",
       "        <td>DataScientist</td>\n",
       "    </tr>\n",
       "</table>"
      ],
      "text/plain": [
       "[(1, 'Monika', 'Arora', 100000, '14-02-20 09.00.00', 'HR'),\n",
       " (2, 'Niharika', 'Verma', 80000, '14-06-11 09.00.00', 'Admin'),\n",
       " (3, 'Vishal', 'Singhal', 300000, '14-02-20 09.00.00', 'HR'),\n",
       " (4, 'Amitabh', 'Singh', 500000, '14-02-20 09.00.00', 'Admin'),\n",
       " (5, 'Vivek', 'Bhati', 500000, '14-06-11 09.00.00', 'Admin'),\n",
       " (6, 'Vipul', 'Diwan', 200000, '14-06-11 09.00.00', 'Account'),\n",
       " (7, 'Satish', 'Kumar', 75000, '14-01-20 09.00.00', 'Account'),\n",
       " (8, 'Geetika', 'Chauhan', 90000, '14-04-11 09.00.00', 'Admin'),\n",
       " (9, 'Ersel', 'Kızmaz', 122000, '14-05-2022 09.00.00', 'DataScientist')]"
      ]
     },
     "execution_count": 3,
     "metadata": {},
     "output_type": "execute_result"
    }
   ],
   "source": [
    "%%sql\n",
    "SELECT * FROM Workers;"
   ]
  },
  {
   "cell_type": "code",
   "execution_count": 6,
   "id": "a54dedf2-24a0-4126-ab3e-d75f44cf5b51",
   "metadata": {},
   "outputs": [
    {
     "name": "stdout",
     "output_type": "stream",
     "text": [
      " * sqlite:///sql-examples.db\n",
      "(sqlite3.OperationalError) no such column: n\n",
      "[SQL: SELECT DISTINCT salary FROM Workers AS a \n",
      "WHERE n >= (SELECT COUNT(DISTINCT salary) FROM Workers AS b \n",
      "            WHERE a.salary <= b.salary)\n",
      "ORDER BY a.salary DESC;]\n",
      "(Background on this error at: https://sqlalche.me/e/14/e3q8)\n"
     ]
    }
   ],
   "source": [
    "%%sql\n",
    "SELECT DISTINCT salary FROM Workers AS a \n",
    "WHERE n >= (SELECT COUNT(DISTINCT salary) FROM Workers AS b \n",
    "            WHERE a.salary <= b.salary)\n",
    "ORDER BY a.salary DESC;"
   ]
  },
  {
   "cell_type": "markdown",
   "id": "2b294503-e088-428f-9a1c-985864051970",
   "metadata": {},
   "source": [
    "### Q-49: Write an SQL query to fetch departments along with the total salaries paid for each of them."
   ]
  },
  {
   "cell_type": "code",
   "execution_count": 3,
   "id": "1c2df0a7-7311-4958-8b97-e67241a0b914",
   "metadata": {},
   "outputs": [
    {
     "name": "stdout",
     "output_type": "stream",
     "text": [
      " * sqlite:///sql-examples.db\n",
      "Done.\n"
     ]
    },
    {
     "data": {
      "text/html": [
       "<table>\n",
       "    <tr>\n",
       "        <th>worker_id</th>\n",
       "        <th>first_name</th>\n",
       "        <th>last_name</th>\n",
       "        <th>salary</th>\n",
       "        <th>joining_date</th>\n",
       "        <th>department</th>\n",
       "    </tr>\n",
       "    <tr>\n",
       "        <td>1</td>\n",
       "        <td>Monika</td>\n",
       "        <td>Arora</td>\n",
       "        <td>100000</td>\n",
       "        <td>14-02-20 09.00.00</td>\n",
       "        <td>HR</td>\n",
       "    </tr>\n",
       "    <tr>\n",
       "        <td>2</td>\n",
       "        <td>Niharika</td>\n",
       "        <td>Verma</td>\n",
       "        <td>80000</td>\n",
       "        <td>14-06-11 09.00.00</td>\n",
       "        <td>Admin</td>\n",
       "    </tr>\n",
       "    <tr>\n",
       "        <td>3</td>\n",
       "        <td>Vishal</td>\n",
       "        <td>Singhal</td>\n",
       "        <td>300000</td>\n",
       "        <td>14-02-20 09.00.00</td>\n",
       "        <td>HR</td>\n",
       "    </tr>\n",
       "    <tr>\n",
       "        <td>4</td>\n",
       "        <td>Amitabh</td>\n",
       "        <td>Singh</td>\n",
       "        <td>500000</td>\n",
       "        <td>14-02-20 09.00.00</td>\n",
       "        <td>Admin</td>\n",
       "    </tr>\n",
       "    <tr>\n",
       "        <td>5</td>\n",
       "        <td>Vivek</td>\n",
       "        <td>Bhati</td>\n",
       "        <td>500000</td>\n",
       "        <td>14-06-11 09.00.00</td>\n",
       "        <td>Admin</td>\n",
       "    </tr>\n",
       "    <tr>\n",
       "        <td>6</td>\n",
       "        <td>Vipul</td>\n",
       "        <td>Diwan</td>\n",
       "        <td>200000</td>\n",
       "        <td>14-06-11 09.00.00</td>\n",
       "        <td>Account</td>\n",
       "    </tr>\n",
       "    <tr>\n",
       "        <td>7</td>\n",
       "        <td>Satish</td>\n",
       "        <td>Kumar</td>\n",
       "        <td>75000</td>\n",
       "        <td>14-01-20 09.00.00</td>\n",
       "        <td>Account</td>\n",
       "    </tr>\n",
       "    <tr>\n",
       "        <td>8</td>\n",
       "        <td>Geetika</td>\n",
       "        <td>Chauhan</td>\n",
       "        <td>90000</td>\n",
       "        <td>14-04-11 09.00.00</td>\n",
       "        <td>Admin</td>\n",
       "    </tr>\n",
       "    <tr>\n",
       "        <td>9</td>\n",
       "        <td>Ersel</td>\n",
       "        <td>Kızmaz</td>\n",
       "        <td>122000</td>\n",
       "        <td>14-05-2022 09.00.00</td>\n",
       "        <td>DataScientist</td>\n",
       "    </tr>\n",
       "</table>"
      ],
      "text/plain": [
       "[(1, 'Monika', 'Arora', 100000, '14-02-20 09.00.00', 'HR'),\n",
       " (2, 'Niharika', 'Verma', 80000, '14-06-11 09.00.00', 'Admin'),\n",
       " (3, 'Vishal', 'Singhal', 300000, '14-02-20 09.00.00', 'HR'),\n",
       " (4, 'Amitabh', 'Singh', 500000, '14-02-20 09.00.00', 'Admin'),\n",
       " (5, 'Vivek', 'Bhati', 500000, '14-06-11 09.00.00', 'Admin'),\n",
       " (6, 'Vipul', 'Diwan', 200000, '14-06-11 09.00.00', 'Account'),\n",
       " (7, 'Satish', 'Kumar', 75000, '14-01-20 09.00.00', 'Account'),\n",
       " (8, 'Geetika', 'Chauhan', 90000, '14-04-11 09.00.00', 'Admin'),\n",
       " (9, 'Ersel', 'Kızmaz', 122000, '14-05-2022 09.00.00', 'DataScientist')]"
      ]
     },
     "execution_count": 3,
     "metadata": {},
     "output_type": "execute_result"
    }
   ],
   "source": [
    "%%sql\n",
    "SELECT * FROM Workers;"
   ]
  },
  {
   "cell_type": "code",
   "execution_count": 6,
   "id": "d64b9874-4d31-41c3-b531-c0ad297dd595",
   "metadata": {},
   "outputs": [
    {
     "name": "stdout",
     "output_type": "stream",
     "text": [
      " * sqlite:///sql-examples.db\n",
      "Done.\n"
     ]
    },
    {
     "data": {
      "text/html": [
       "<table>\n",
       "    <tr>\n",
       "        <th>department</th>\n",
       "        <th>SUM(salary)</th>\n",
       "    </tr>\n",
       "    <tr>\n",
       "        <td>Account</td>\n",
       "        <td>275000</td>\n",
       "    </tr>\n",
       "    <tr>\n",
       "        <td>Admin</td>\n",
       "        <td>1170000</td>\n",
       "    </tr>\n",
       "    <tr>\n",
       "        <td>DataScientist</td>\n",
       "        <td>122000</td>\n",
       "    </tr>\n",
       "    <tr>\n",
       "        <td>HR</td>\n",
       "        <td>400000</td>\n",
       "    </tr>\n",
       "</table>"
      ],
      "text/plain": [
       "[('Account', 275000),\n",
       " ('Admin', 1170000),\n",
       " ('DataScientist', 122000),\n",
       " ('HR', 400000)]"
      ]
     },
     "execution_count": 6,
     "metadata": {},
     "output_type": "execute_result"
    }
   ],
   "source": [
    "%%sql\n",
    "SELECT department, SUM(salary) FROM Workers GROUP BY department;"
   ]
  },
  {
   "cell_type": "markdown",
   "id": "e47699fa-aa8c-4ebe-b39b-93aef036fee4",
   "metadata": {},
   "source": [
    "### Q-50: Write an SQL query to fetch the names of workers who earn the highest salary."
   ]
  },
  {
   "cell_type": "code",
   "execution_count": 3,
   "id": "dfc35396-a9f7-497d-b0a3-e375df836373",
   "metadata": {},
   "outputs": [
    {
     "name": "stdout",
     "output_type": "stream",
     "text": [
      " * sqlite:///sql-examples.db\n",
      "Done.\n"
     ]
    },
    {
     "data": {
      "text/html": [
       "<table>\n",
       "    <tr>\n",
       "        <th>worker_id</th>\n",
       "        <th>first_name</th>\n",
       "        <th>last_name</th>\n",
       "        <th>salary</th>\n",
       "        <th>joining_date</th>\n",
       "        <th>department</th>\n",
       "    </tr>\n",
       "    <tr>\n",
       "        <td>1</td>\n",
       "        <td>Monika</td>\n",
       "        <td>Arora</td>\n",
       "        <td>100000</td>\n",
       "        <td>14-02-20 09.00.00</td>\n",
       "        <td>HR</td>\n",
       "    </tr>\n",
       "    <tr>\n",
       "        <td>2</td>\n",
       "        <td>Niharika</td>\n",
       "        <td>Verma</td>\n",
       "        <td>80000</td>\n",
       "        <td>14-06-11 09.00.00</td>\n",
       "        <td>Admin</td>\n",
       "    </tr>\n",
       "    <tr>\n",
       "        <td>3</td>\n",
       "        <td>Vishal</td>\n",
       "        <td>Singhal</td>\n",
       "        <td>300000</td>\n",
       "        <td>14-02-20 09.00.00</td>\n",
       "        <td>HR</td>\n",
       "    </tr>\n",
       "    <tr>\n",
       "        <td>4</td>\n",
       "        <td>Amitabh</td>\n",
       "        <td>Singh</td>\n",
       "        <td>500000</td>\n",
       "        <td>14-02-20 09.00.00</td>\n",
       "        <td>Admin</td>\n",
       "    </tr>\n",
       "    <tr>\n",
       "        <td>5</td>\n",
       "        <td>Vivek</td>\n",
       "        <td>Bhati</td>\n",
       "        <td>500000</td>\n",
       "        <td>14-06-11 09.00.00</td>\n",
       "        <td>Admin</td>\n",
       "    </tr>\n",
       "    <tr>\n",
       "        <td>6</td>\n",
       "        <td>Vipul</td>\n",
       "        <td>Diwan</td>\n",
       "        <td>200000</td>\n",
       "        <td>14-06-11 09.00.00</td>\n",
       "        <td>Account</td>\n",
       "    </tr>\n",
       "    <tr>\n",
       "        <td>7</td>\n",
       "        <td>Satish</td>\n",
       "        <td>Kumar</td>\n",
       "        <td>75000</td>\n",
       "        <td>14-01-20 09.00.00</td>\n",
       "        <td>Account</td>\n",
       "    </tr>\n",
       "    <tr>\n",
       "        <td>8</td>\n",
       "        <td>Geetika</td>\n",
       "        <td>Chauhan</td>\n",
       "        <td>90000</td>\n",
       "        <td>14-04-11 09.00.00</td>\n",
       "        <td>Admin</td>\n",
       "    </tr>\n",
       "    <tr>\n",
       "        <td>9</td>\n",
       "        <td>Ersel</td>\n",
       "        <td>Kızmaz</td>\n",
       "        <td>122000</td>\n",
       "        <td>14-05-2022 09.00.00</td>\n",
       "        <td>DataScientist</td>\n",
       "    </tr>\n",
       "</table>"
      ],
      "text/plain": [
       "[(1, 'Monika', 'Arora', 100000, '14-02-20 09.00.00', 'HR'),\n",
       " (2, 'Niharika', 'Verma', 80000, '14-06-11 09.00.00', 'Admin'),\n",
       " (3, 'Vishal', 'Singhal', 300000, '14-02-20 09.00.00', 'HR'),\n",
       " (4, 'Amitabh', 'Singh', 500000, '14-02-20 09.00.00', 'Admin'),\n",
       " (5, 'Vivek', 'Bhati', 500000, '14-06-11 09.00.00', 'Admin'),\n",
       " (6, 'Vipul', 'Diwan', 200000, '14-06-11 09.00.00', 'Account'),\n",
       " (7, 'Satish', 'Kumar', 75000, '14-01-20 09.00.00', 'Account'),\n",
       " (8, 'Geetika', 'Chauhan', 90000, '14-04-11 09.00.00', 'Admin'),\n",
       " (9, 'Ersel', 'Kızmaz', 122000, '14-05-2022 09.00.00', 'DataScientist')]"
      ]
     },
     "execution_count": 3,
     "metadata": {},
     "output_type": "execute_result"
    }
   ],
   "source": [
    "%%sql\n",
    "SELECT * FROM Workers;"
   ]
  },
  {
   "cell_type": "code",
   "execution_count": 4,
   "id": "58c47175-c981-4edb-9e83-c8dcc7d1ded5",
   "metadata": {},
   "outputs": [
    {
     "name": "stdout",
     "output_type": "stream",
     "text": [
      " * sqlite:///sql-examples.db\n",
      "Done.\n"
     ]
    },
    {
     "data": {
      "text/html": [
       "<table>\n",
       "    <tr>\n",
       "        <th>first_name || &#x27; &#x27; || last_name</th>\n",
       "        <th>MAX(salary)</th>\n",
       "        <th>department</th>\n",
       "    </tr>\n",
       "    <tr>\n",
       "        <td>Amitabh Singh</td>\n",
       "        <td>500000</td>\n",
       "        <td>Admin</td>\n",
       "    </tr>\n",
       "    <tr>\n",
       "        <td>Vishal Singhal</td>\n",
       "        <td>300000</td>\n",
       "        <td>HR</td>\n",
       "    </tr>\n",
       "    <tr>\n",
       "        <td>Vipul Diwan</td>\n",
       "        <td>200000</td>\n",
       "        <td>Account</td>\n",
       "    </tr>\n",
       "    <tr>\n",
       "        <td>Ersel Kızmaz</td>\n",
       "        <td>122000</td>\n",
       "        <td>DataScientist</td>\n",
       "    </tr>\n",
       "</table>"
      ],
      "text/plain": [
       "[('Amitabh Singh', 500000, 'Admin'),\n",
       " ('Vishal Singhal', 300000, 'HR'),\n",
       " ('Vipul Diwan', 200000, 'Account'),\n",
       " ('Ersel Kızmaz', 122000, 'DataScientist')]"
      ]
     },
     "execution_count": 4,
     "metadata": {},
     "output_type": "execute_result"
    }
   ],
   "source": [
    "%%sql\n",
    "SELECT first_name || ' ' || last_name, MAX(salary), department FROM Workers\n",
    "GROUP BY department\n",
    "ORDER BY salary DESC;"
   ]
  },
  {
   "cell_type": "code",
   "execution_count": 6,
   "id": "e4bd329c-31f5-4497-a11b-42763d5da5c8",
   "metadata": {},
   "outputs": [
    {
     "name": "stdout",
     "output_type": "stream",
     "text": [
      " * sqlite:///sql-examples.db\n",
      "Done.\n"
     ]
    },
    {
     "data": {
      "text/html": [
       "<table>\n",
       "    <tr>\n",
       "        <th>first_name</th>\n",
       "        <th>salary</th>\n",
       "    </tr>\n",
       "    <tr>\n",
       "        <td>Amitabh</td>\n",
       "        <td>500000</td>\n",
       "    </tr>\n",
       "    <tr>\n",
       "        <td>Vivek</td>\n",
       "        <td>500000</td>\n",
       "    </tr>\n",
       "</table>"
      ],
      "text/plain": [
       "[('Amitabh', 500000), ('Vivek', 500000)]"
      ]
     },
     "execution_count": 6,
     "metadata": {},
     "output_type": "execute_result"
    }
   ],
   "source": [
    "%%sql\n",
    "SELECT first_name, salary FROM Workers \n",
    "WHERE salary = (SELECT MAX(salary) from Workers);"
   ]
  },
  {
   "cell_type": "code",
   "execution_count": null,
   "id": "9f8b7bda-e837-4744-9651-35de837e08a7",
   "metadata": {},
   "outputs": [],
   "source": []
  }
 ],
 "metadata": {
  "kernelspec": {
   "display_name": "Python 3 (ipykernel)",
   "language": "python",
   "name": "python3"
  },
  "language_info": {
   "codemirror_mode": {
    "name": "ipython",
    "version": 3
   },
   "file_extension": ".py",
   "mimetype": "text/x-python",
   "name": "python",
   "nbconvert_exporter": "python",
   "pygments_lexer": "ipython3",
   "version": "3.8.10"
  }
 },
 "nbformat": 4,
 "nbformat_minor": 5
}
